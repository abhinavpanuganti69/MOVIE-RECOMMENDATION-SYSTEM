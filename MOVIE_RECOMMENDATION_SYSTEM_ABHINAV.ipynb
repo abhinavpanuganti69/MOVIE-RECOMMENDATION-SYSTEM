{
  "nbformat": 4,
  "nbformat_minor": 0,
  "metadata": {
    "colab": {
      "provenance": [],
      "authorship_tag": "ABX9TyMf7td4Ow1r/KAobBHKAcP7",
      "include_colab_link": true
    },
    "kernelspec": {
      "name": "python3",
      "display_name": "Python 3"
    },
    "language_info": {
      "name": "python"
    }
  },
  "cells": [
    {
      "cell_type": "markdown",
      "metadata": {
        "id": "view-in-github",
        "colab_type": "text"
      },
      "source": [
        "<a href=\"https://colab.research.google.com/github/abhinavpanuganti69/MOVIE-RECOMMENDATION-SYSTEM/blob/main/MOVIE_RECOMMENDATION_SYSTEM_ABHINAV.ipynb\" target=\"_parent\"><img src=\"https://colab.research.google.com/assets/colab-badge.svg\" alt=\"Open In Colab\"/></a>"
      ]
    },
    {
      "cell_type": "code",
      "execution_count": 55,
      "metadata": {
        "id": "unMkI5dgQx_9"
      },
      "outputs": [],
      "source": [
        "import numpy as np\n",
        "import pandas as pd\n",
        "import difflib\n",
        "from sklearn.feature_extraction.text import TfidfVectorizer\n",
        "from sklearn.metrics.pairwise import cosine_similarity\n"
      ]
    },
    {
      "cell_type": "markdown",
      "source": [
        "DATA COLLECTION AND PRE_PROCESSING"
      ],
      "metadata": {
        "id": "tV65KWUXWMMk"
      }
    },
    {
      "cell_type": "code",
      "source": [
        "# Loading the data from the csv file to a pandas dataframe\n",
        "movies_data = pd.read_csv('/content/TeluguMovies_dataset.csv')"
      ],
      "metadata": {
        "id": "t47NeR1yWP2l"
      },
      "execution_count": 56,
      "outputs": []
    },
    {
      "cell_type": "code",
      "source": [
        "# Printing the first 5 rows of the dataframe\n",
        "movies_data.head()"
      ],
      "metadata": {
        "colab": {
          "base_uri": "https://localhost:8080/",
          "height": 310
        },
        "id": "qnDatH0OWygi",
        "outputId": "62f1fd96-3037-4aa7-f7de-e71e889b98de"
      },
      "execution_count": 57,
      "outputs": [
        {
          "output_type": "execute_result",
          "data": {
            "text/plain": [
              "   Unnamed: 0                        Movie    Year Certificate  \\\n",
              "0           0      Bahubali: The Beginning  2015.0          UA   \n",
              "1           1  Baahubali 2: The Conclusion  2017.0          UA   \n",
              "2           2              1 - Nenokkadine  2014.0          UA   \n",
              "3           3                      Dhoom:3  2013.0          UA   \n",
              "4           4                       Ra.One  2011.0           U   \n",
              "\n",
              "                                   Genre  \\\n",
              "0              Action, Drama               \n",
              "1              Action, Drama               \n",
              "2           Action, Thriller               \n",
              "3           Action, Thriller               \n",
              "4  Action, Adventure, Sci-Fi               \n",
              "\n",
              "                                            Overview  Runtime  Rating  \\\n",
              "0      In ancient India, an adventurous and darin...      159     8.1   \n",
              "1      When Shiva, the son of Bahubali, learns ab...      167     8.2   \n",
              "2      A rock star must overcome his psychologica...      170     8.1   \n",
              "3      When Sahir, a circus entertainer trained i...      172     5.4   \n",
              "4      When the titular antagonist of an action g...      156     4.6   \n",
              "\n",
              "   No.of.Ratings  \n",
              "0          99114  \n",
              "1          71458  \n",
              "2          42372  \n",
              "3          42112  \n",
              "4          37211  "
            ],
            "text/html": [
              "\n",
              "  <div id=\"df-377075a8-a45f-4138-b86f-c3e7d5607faf\" class=\"colab-df-container\">\n",
              "    <div>\n",
              "<style scoped>\n",
              "    .dataframe tbody tr th:only-of-type {\n",
              "        vertical-align: middle;\n",
              "    }\n",
              "\n",
              "    .dataframe tbody tr th {\n",
              "        vertical-align: top;\n",
              "    }\n",
              "\n",
              "    .dataframe thead th {\n",
              "        text-align: right;\n",
              "    }\n",
              "</style>\n",
              "<table border=\"1\" class=\"dataframe\">\n",
              "  <thead>\n",
              "    <tr style=\"text-align: right;\">\n",
              "      <th></th>\n",
              "      <th>Unnamed: 0</th>\n",
              "      <th>Movie</th>\n",
              "      <th>Year</th>\n",
              "      <th>Certificate</th>\n",
              "      <th>Genre</th>\n",
              "      <th>Overview</th>\n",
              "      <th>Runtime</th>\n",
              "      <th>Rating</th>\n",
              "      <th>No.of.Ratings</th>\n",
              "    </tr>\n",
              "  </thead>\n",
              "  <tbody>\n",
              "    <tr>\n",
              "      <th>0</th>\n",
              "      <td>0</td>\n",
              "      <td>Bahubali: The Beginning</td>\n",
              "      <td>2015.0</td>\n",
              "      <td>UA</td>\n",
              "      <td>Action, Drama</td>\n",
              "      <td>In ancient India, an adventurous and darin...</td>\n",
              "      <td>159</td>\n",
              "      <td>8.1</td>\n",
              "      <td>99114</td>\n",
              "    </tr>\n",
              "    <tr>\n",
              "      <th>1</th>\n",
              "      <td>1</td>\n",
              "      <td>Baahubali 2: The Conclusion</td>\n",
              "      <td>2017.0</td>\n",
              "      <td>UA</td>\n",
              "      <td>Action, Drama</td>\n",
              "      <td>When Shiva, the son of Bahubali, learns ab...</td>\n",
              "      <td>167</td>\n",
              "      <td>8.2</td>\n",
              "      <td>71458</td>\n",
              "    </tr>\n",
              "    <tr>\n",
              "      <th>2</th>\n",
              "      <td>2</td>\n",
              "      <td>1 - Nenokkadine</td>\n",
              "      <td>2014.0</td>\n",
              "      <td>UA</td>\n",
              "      <td>Action, Thriller</td>\n",
              "      <td>A rock star must overcome his psychologica...</td>\n",
              "      <td>170</td>\n",
              "      <td>8.1</td>\n",
              "      <td>42372</td>\n",
              "    </tr>\n",
              "    <tr>\n",
              "      <th>3</th>\n",
              "      <td>3</td>\n",
              "      <td>Dhoom:3</td>\n",
              "      <td>2013.0</td>\n",
              "      <td>UA</td>\n",
              "      <td>Action, Thriller</td>\n",
              "      <td>When Sahir, a circus entertainer trained i...</td>\n",
              "      <td>172</td>\n",
              "      <td>5.4</td>\n",
              "      <td>42112</td>\n",
              "    </tr>\n",
              "    <tr>\n",
              "      <th>4</th>\n",
              "      <td>4</td>\n",
              "      <td>Ra.One</td>\n",
              "      <td>2011.0</td>\n",
              "      <td>U</td>\n",
              "      <td>Action, Adventure, Sci-Fi</td>\n",
              "      <td>When the titular antagonist of an action g...</td>\n",
              "      <td>156</td>\n",
              "      <td>4.6</td>\n",
              "      <td>37211</td>\n",
              "    </tr>\n",
              "  </tbody>\n",
              "</table>\n",
              "</div>\n",
              "    <div class=\"colab-df-buttons\">\n",
              "\n",
              "  <div class=\"colab-df-container\">\n",
              "    <button class=\"colab-df-convert\" onclick=\"convertToInteractive('df-377075a8-a45f-4138-b86f-c3e7d5607faf')\"\n",
              "            title=\"Convert this dataframe to an interactive table.\"\n",
              "            style=\"display:none;\">\n",
              "\n",
              "  <svg xmlns=\"http://www.w3.org/2000/svg\" height=\"24px\" viewBox=\"0 -960 960 960\">\n",
              "    <path d=\"M120-120v-720h720v720H120Zm60-500h600v-160H180v160Zm220 220h160v-160H400v160Zm0 220h160v-160H400v160ZM180-400h160v-160H180v160Zm440 0h160v-160H620v160ZM180-180h160v-160H180v160Zm440 0h160v-160H620v160Z\"/>\n",
              "  </svg>\n",
              "    </button>\n",
              "\n",
              "  <style>\n",
              "    .colab-df-container {\n",
              "      display:flex;\n",
              "      gap: 12px;\n",
              "    }\n",
              "\n",
              "    .colab-df-convert {\n",
              "      background-color: #E8F0FE;\n",
              "      border: none;\n",
              "      border-radius: 50%;\n",
              "      cursor: pointer;\n",
              "      display: none;\n",
              "      fill: #1967D2;\n",
              "      height: 32px;\n",
              "      padding: 0 0 0 0;\n",
              "      width: 32px;\n",
              "    }\n",
              "\n",
              "    .colab-df-convert:hover {\n",
              "      background-color: #E2EBFA;\n",
              "      box-shadow: 0px 1px 2px rgba(60, 64, 67, 0.3), 0px 1px 3px 1px rgba(60, 64, 67, 0.15);\n",
              "      fill: #174EA6;\n",
              "    }\n",
              "\n",
              "    .colab-df-buttons div {\n",
              "      margin-bottom: 4px;\n",
              "    }\n",
              "\n",
              "    [theme=dark] .colab-df-convert {\n",
              "      background-color: #3B4455;\n",
              "      fill: #D2E3FC;\n",
              "    }\n",
              "\n",
              "    [theme=dark] .colab-df-convert:hover {\n",
              "      background-color: #434B5C;\n",
              "      box-shadow: 0px 1px 3px 1px rgba(0, 0, 0, 0.15);\n",
              "      filter: drop-shadow(0px 1px 2px rgba(0, 0, 0, 0.3));\n",
              "      fill: #FFFFFF;\n",
              "    }\n",
              "  </style>\n",
              "\n",
              "    <script>\n",
              "      const buttonEl =\n",
              "        document.querySelector('#df-377075a8-a45f-4138-b86f-c3e7d5607faf button.colab-df-convert');\n",
              "      buttonEl.style.display =\n",
              "        google.colab.kernel.accessAllowed ? 'block' : 'none';\n",
              "\n",
              "      async function convertToInteractive(key) {\n",
              "        const element = document.querySelector('#df-377075a8-a45f-4138-b86f-c3e7d5607faf');\n",
              "        const dataTable =\n",
              "          await google.colab.kernel.invokeFunction('convertToInteractive',\n",
              "                                                    [key], {});\n",
              "        if (!dataTable) return;\n",
              "\n",
              "        const docLinkHtml = 'Like what you see? Visit the ' +\n",
              "          '<a target=\"_blank\" href=https://colab.research.google.com/notebooks/data_table.ipynb>data table notebook</a>'\n",
              "          + ' to learn more about interactive tables.';\n",
              "        element.innerHTML = '';\n",
              "        dataTable['output_type'] = 'display_data';\n",
              "        await google.colab.output.renderOutput(dataTable, element);\n",
              "        const docLink = document.createElement('div');\n",
              "        docLink.innerHTML = docLinkHtml;\n",
              "        element.appendChild(docLink);\n",
              "      }\n",
              "    </script>\n",
              "  </div>\n",
              "\n",
              "\n",
              "    <div id=\"df-d88b54c3-81df-435a-a382-56026d09c879\">\n",
              "      <button class=\"colab-df-quickchart\" onclick=\"quickchart('df-d88b54c3-81df-435a-a382-56026d09c879')\"\n",
              "                title=\"Suggest charts\"\n",
              "                style=\"display:none;\">\n",
              "\n",
              "<svg xmlns=\"http://www.w3.org/2000/svg\" height=\"24px\"viewBox=\"0 0 24 24\"\n",
              "     width=\"24px\">\n",
              "    <g>\n",
              "        <path d=\"M19 3H5c-1.1 0-2 .9-2 2v14c0 1.1.9 2 2 2h14c1.1 0 2-.9 2-2V5c0-1.1-.9-2-2-2zM9 17H7v-7h2v7zm4 0h-2V7h2v10zm4 0h-2v-4h2v4z\"/>\n",
              "    </g>\n",
              "</svg>\n",
              "      </button>\n",
              "\n",
              "<style>\n",
              "  .colab-df-quickchart {\n",
              "      --bg-color: #E8F0FE;\n",
              "      --fill-color: #1967D2;\n",
              "      --hover-bg-color: #E2EBFA;\n",
              "      --hover-fill-color: #174EA6;\n",
              "      --disabled-fill-color: #AAA;\n",
              "      --disabled-bg-color: #DDD;\n",
              "  }\n",
              "\n",
              "  [theme=dark] .colab-df-quickchart {\n",
              "      --bg-color: #3B4455;\n",
              "      --fill-color: #D2E3FC;\n",
              "      --hover-bg-color: #434B5C;\n",
              "      --hover-fill-color: #FFFFFF;\n",
              "      --disabled-bg-color: #3B4455;\n",
              "      --disabled-fill-color: #666;\n",
              "  }\n",
              "\n",
              "  .colab-df-quickchart {\n",
              "    background-color: var(--bg-color);\n",
              "    border: none;\n",
              "    border-radius: 50%;\n",
              "    cursor: pointer;\n",
              "    display: none;\n",
              "    fill: var(--fill-color);\n",
              "    height: 32px;\n",
              "    padding: 0;\n",
              "    width: 32px;\n",
              "  }\n",
              "\n",
              "  .colab-df-quickchart:hover {\n",
              "    background-color: var(--hover-bg-color);\n",
              "    box-shadow: 0 1px 2px rgba(60, 64, 67, 0.3), 0 1px 3px 1px rgba(60, 64, 67, 0.15);\n",
              "    fill: var(--button-hover-fill-color);\n",
              "  }\n",
              "\n",
              "  .colab-df-quickchart-complete:disabled,\n",
              "  .colab-df-quickchart-complete:disabled:hover {\n",
              "    background-color: var(--disabled-bg-color);\n",
              "    fill: var(--disabled-fill-color);\n",
              "    box-shadow: none;\n",
              "  }\n",
              "\n",
              "  .colab-df-spinner {\n",
              "    border: 2px solid var(--fill-color);\n",
              "    border-color: transparent;\n",
              "    border-bottom-color: var(--fill-color);\n",
              "    animation:\n",
              "      spin 1s steps(1) infinite;\n",
              "  }\n",
              "\n",
              "  @keyframes spin {\n",
              "    0% {\n",
              "      border-color: transparent;\n",
              "      border-bottom-color: var(--fill-color);\n",
              "      border-left-color: var(--fill-color);\n",
              "    }\n",
              "    20% {\n",
              "      border-color: transparent;\n",
              "      border-left-color: var(--fill-color);\n",
              "      border-top-color: var(--fill-color);\n",
              "    }\n",
              "    30% {\n",
              "      border-color: transparent;\n",
              "      border-left-color: var(--fill-color);\n",
              "      border-top-color: var(--fill-color);\n",
              "      border-right-color: var(--fill-color);\n",
              "    }\n",
              "    40% {\n",
              "      border-color: transparent;\n",
              "      border-right-color: var(--fill-color);\n",
              "      border-top-color: var(--fill-color);\n",
              "    }\n",
              "    60% {\n",
              "      border-color: transparent;\n",
              "      border-right-color: var(--fill-color);\n",
              "    }\n",
              "    80% {\n",
              "      border-color: transparent;\n",
              "      border-right-color: var(--fill-color);\n",
              "      border-bottom-color: var(--fill-color);\n",
              "    }\n",
              "    90% {\n",
              "      border-color: transparent;\n",
              "      border-bottom-color: var(--fill-color);\n",
              "    }\n",
              "  }\n",
              "</style>\n",
              "\n",
              "      <script>\n",
              "        async function quickchart(key) {\n",
              "          const quickchartButtonEl =\n",
              "            document.querySelector('#' + key + ' button');\n",
              "          quickchartButtonEl.disabled = true;  // To prevent multiple clicks.\n",
              "          quickchartButtonEl.classList.add('colab-df-spinner');\n",
              "          try {\n",
              "            const charts = await google.colab.kernel.invokeFunction(\n",
              "                'suggestCharts', [key], {});\n",
              "          } catch (error) {\n",
              "            console.error('Error during call to suggestCharts:', error);\n",
              "          }\n",
              "          quickchartButtonEl.classList.remove('colab-df-spinner');\n",
              "          quickchartButtonEl.classList.add('colab-df-quickchart-complete');\n",
              "        }\n",
              "        (() => {\n",
              "          let quickchartButtonEl =\n",
              "            document.querySelector('#df-d88b54c3-81df-435a-a382-56026d09c879 button');\n",
              "          quickchartButtonEl.style.display =\n",
              "            google.colab.kernel.accessAllowed ? 'block' : 'none';\n",
              "        })();\n",
              "      </script>\n",
              "    </div>\n",
              "\n",
              "    </div>\n",
              "  </div>\n"
            ],
            "application/vnd.google.colaboratory.intrinsic+json": {
              "type": "dataframe",
              "variable_name": "movies_data",
              "summary": "{\n  \"name\": \"movies_data\",\n  \"rows\": 1400,\n  \"fields\": [\n    {\n      \"column\": \"Unnamed: 0\",\n      \"properties\": {\n        \"dtype\": \"number\",\n        \"std\": 404,\n        \"min\": 0,\n        \"max\": 1399,\n        \"num_unique_values\": 1400,\n        \"samples\": [\n          665,\n          624,\n          115\n        ],\n        \"semantic_type\": \"\",\n        \"description\": \"\"\n      }\n    },\n    {\n      \"column\": \"Movie\",\n      \"properties\": {\n        \"dtype\": \"string\",\n        \"num_unique_values\": 1376,\n        \"samples\": [\n          \"Phoonk 2\",\n          \"Chekka Chivantha Vaanam\",\n          \"Sri Anjaneyam\"\n        ],\n        \"semantic_type\": \"\",\n        \"description\": \"\"\n      }\n    },\n    {\n      \"column\": \"Year\",\n      \"properties\": {\n        \"dtype\": \"number\",\n        \"std\": 13.148859065004318,\n        \"min\": 1932.0,\n        \"max\": 2020.0,\n        \"num_unique_values\": 65,\n        \"samples\": [\n          1965.0,\n          1961.0,\n          2015.0\n        ],\n        \"semantic_type\": \"\",\n        \"description\": \"\"\n      }\n    },\n    {\n      \"column\": \"Certificate\",\n      \"properties\": {\n        \"dtype\": \"category\",\n        \"num_unique_values\": 7,\n        \"samples\": [\n          \"UA\",\n          \"U\",\n          \"Unrated\"\n        ],\n        \"semantic_type\": \"\",\n        \"description\": \"\"\n      }\n    },\n    {\n      \"column\": \"Genre\",\n      \"properties\": {\n        \"dtype\": \"category\",\n        \"num_unique_values\": 170,\n        \"samples\": [\n          \"Musical, Mystery, Thriller            \",\n          \"Action, Comedy, Crime            \",\n          \"Comedy, Romance, Thriller            \"\n        ],\n        \"semantic_type\": \"\",\n        \"description\": \"\"\n      }\n    },\n    {\n      \"column\": \"Overview\",\n      \"properties\": {\n        \"dtype\": \"string\",\n        \"num_unique_values\": 1221,\n        \"samples\": [\n          \"    A famous actor is asked to play the role of his lookalike army major and eventually battle his enemies.\",\n          \"    When Naidu confronts his son's rival group to end their squabbles, he encounters their mother Satya, his long lost love, separated by the twist of fate. As Honey learns the secret between ...                See full summary\\u00a0\\u00bb\",\n          \"    A son steps into his father's shoes, has to win a bloody war before he becomes the leader.\"\n        ],\n        \"semantic_type\": \"\",\n        \"description\": \"\"\n      }\n    },\n    {\n      \"column\": \"Runtime\",\n      \"properties\": {\n        \"dtype\": \"number\",\n        \"std\": 55,\n        \"min\": 0,\n        \"max\": 300,\n        \"num_unique_values\": 112,\n        \"samples\": [\n          146,\n          0,\n          156\n        ],\n        \"semantic_type\": \"\",\n        \"description\": \"\"\n      }\n    },\n    {\n      \"column\": \"Rating\",\n      \"properties\": {\n        \"dtype\": \"number\",\n        \"std\": 1.314660050236229,\n        \"min\": 1.0,\n        \"max\": 9.5,\n        \"num_unique_values\": 76,\n        \"samples\": [\n          6.5,\n          9.0,\n          7.4\n        ],\n        \"semantic_type\": \"\",\n        \"description\": \"\"\n      }\n    },\n    {\n      \"column\": \"No.of.Ratings\",\n      \"properties\": {\n        \"dtype\": \"number\",\n        \"std\": 4328,\n        \"min\": 49,\n        \"max\": 99114,\n        \"num_unique_values\": 766,\n        \"samples\": [\n          530,\n          161,\n          790\n        ],\n        \"semantic_type\": \"\",\n        \"description\": \"\"\n      }\n    }\n  ]\n}"
            }
          },
          "metadata": {},
          "execution_count": 57
        }
      ]
    },
    {
      "cell_type": "code",
      "source": [
        "#number of rows and columns in the dataset\n",
        "movies_data.shape"
      ],
      "metadata": {
        "colab": {
          "base_uri": "https://localhost:8080/"
        },
        "id": "F043i-x7Xyzz",
        "outputId": "c58a7065-4740-475f-9548-d6d0b46ee1ee"
      },
      "execution_count": 58,
      "outputs": [
        {
          "output_type": "execute_result",
          "data": {
            "text/plain": [
              "(1400, 9)"
            ]
          },
          "metadata": {},
          "execution_count": 58
        }
      ]
    },
    {
      "cell_type": "code",
      "source": [
        "# selecting the relevant features for recommendation\n",
        "selected_features = ['Genre','Overview','Movie','Rating']\n",
        "print(selected_features)\n"
      ],
      "metadata": {
        "colab": {
          "base_uri": "https://localhost:8080/"
        },
        "id": "-pk7H6nBX55F",
        "outputId": "bfd989a4-32fc-4c55-a739-1752679e1378"
      },
      "execution_count": 61,
      "outputs": [
        {
          "output_type": "stream",
          "name": "stdout",
          "text": [
            "['Genre', 'Overview', 'Movie', 'Rating']\n"
          ]
        }
      ]
    },
    {
      "cell_type": "code",
      "source": [
        "# Replacing the null values with null string\n",
        "for feature in selected_features:\n",
        "  movies_data[feature] = movies_data[feature].fillna('')"
      ],
      "metadata": {
        "id": "6I_s4zOdqIZ2"
      },
      "execution_count": 69,
      "outputs": []
    },
    {
      "cell_type": "code",
      "source": [
        "#Combining all the 4 selected features\n",
        "combined_features = movies_data['Genre'].astype(str) +' '+movies_data['Overview'].astype(str) +' '+movies_data['Movie'].astype(str) +' '+movies_data['Rating'].astype(str)"
      ],
      "metadata": {
        "id": "dxKIvmtHqMyh"
      },
      "execution_count": 71,
      "outputs": []
    },
    {
      "cell_type": "code",
      "source": [
        "print(combined_features)"
      ],
      "metadata": {
        "colab": {
          "base_uri": "https://localhost:8080/"
        },
        "id": "eitHgXTQriXi",
        "outputId": "133dc8ca-f672-422a-e41b-bb436a2bbcc8"
      },
      "execution_count": 72,
      "outputs": [
        {
          "output_type": "stream",
          "name": "stdout",
          "text": [
            "0       Action, Drama                 In ancient India...\n",
            "1       Action, Drama                 When Shiva, the ...\n",
            "2       Action, Thriller                 A rock star m...\n",
            "3       Action, Thriller                 When Sahir, a...\n",
            "4       Action, Adventure, Sci-Fi                 When...\n",
            "                              ...                        \n",
            "1395                                    Maro Monagadu 8.6\n",
            "1396    Comedy, Drama                 The movie is abo...\n",
            "1397    Drama, Romance                 Muvva Gopaludu ...\n",
            "1398         Hero Charan (Tarun) a middle class family...\n",
            "1399    Drama                 Surendra marries Savitri...\n",
            "Length: 1400, dtype: object\n"
          ]
        }
      ]
    },
    {
      "cell_type": "code",
      "source": [
        "# Converting the text data to feature vectors(numerical Values)\n",
        "vectorizer = TfidfVectorizer()\n"
      ],
      "metadata": {
        "id": "FMGa4ls-sODc"
      },
      "execution_count": 76,
      "outputs": []
    },
    {
      "cell_type": "code",
      "source": [
        "feature_vectors = vectorizer.fit_transform(combined_features)"
      ],
      "metadata": {
        "id": "WymYG4eWsI74"
      },
      "execution_count": 77,
      "outputs": []
    },
    {
      "cell_type": "code",
      "source": [
        "print(feature_vectors)"
      ],
      "metadata": {
        "colab": {
          "base_uri": "https://localhost:8080/"
        },
        "id": "QNAgyZ-jsXvu",
        "outputId": "e4cf6f81-14ec-48b8-9410-cd7e6c5f2f22"
      },
      "execution_count": 78,
      "outputs": [
        {
          "output_type": "stream",
          "name": "stdout",
          "text": [
            "<Compressed Sparse Row sparse matrix of dtype 'float64'\n",
            "\twith 32435 stored elements and shape (1400, 6702)>\n",
            "  Coords\tValues\n",
            "  (0, 159)\t0.07411837375549563\n",
            "  (0, 1734)\t0.06926665194621266\n",
            "  (0, 2690)\t0.15834279963742298\n",
            "  (0, 352)\t0.2745537850890944\n",
            "  (0, 2703)\t0.1818411048739418\n",
            "  (0, 339)\t0.1064045129508743\n",
            "  (0, 214)\t0.2837866798340414\n",
            "  (0, 353)\t0.07208409715812306\n",
            "  (0, 1447)\t0.3124666704641771\n",
            "  (0, 3479)\t0.12913506667402888\n",
            "  (0, 696)\t0.1977467079436342\n",
            "  (0, 2799)\t0.23195175760409958\n",
            "  (0, 1485)\t0.2745537850890944\n",
            "  (0, 4095)\t0.21325020405606415\n",
            "  (0, 2067)\t0.2606317482342353\n",
            "  (0, 740)\t0.17609654145477932\n",
            "  (0, 6169)\t0.15781505730416462\n",
            "  (0, 6534)\t0.2837866798340414\n",
            "  (0, 4319)\t0.1928732604944429\n",
            "  (0, 628)\t0.29568995142451354\n",
            "  (0, 5961)\t0.06646609204545577\n",
            "  (0, 704)\t0.3124666704641771\n",
            "  (1, 159)\t0.06275125452625636\n",
            "  (1, 1734)\t0.058643614076005254\n",
            "  (1, 2690)\t0.06702932632619459\n",
            "  :\t:\n",
            "  (1399, 4069)\t0.05461860016493604\n",
            "  (1399, 6043)\t0.14848008666732085\n",
            "  (1399, 6604)\t0.07380716764434367\n",
            "  (1399, 1939)\t0.16438283581518223\n",
            "  (1399, 5207)\t0.14805270198108422\n",
            "  (1399, 685)\t0.13111399469086543\n",
            "  (1399, 3291)\t0.09410612851607275\n",
            "  (1399, 6591)\t0.12985045714368504\n",
            "  (1399, 6156)\t0.14283074533719903\n",
            "  (1399, 122)\t0.18700974597689624\n",
            "  (1399, 5212)\t0.39399830568885824\n",
            "  (1399, 2514)\t0.088539020306092\n",
            "  (1399, 4118)\t0.17954855957712323\n",
            "  (1399, 3622)\t0.14188816930726067\n",
            "  (1399, 134)\t0.16438283581518223\n",
            "  (1399, 3720)\t0.14283074533719903\n",
            "  (1399, 4140)\t0.16246677417293193\n",
            "  (1399, 2619)\t0.15439342894764932\n",
            "  (1399, 3933)\t0.19699915284442912\n",
            "  (1399, 3546)\t0.1686313068467555\n",
            "  (1399, 5796)\t0.42432975321274025\n",
            "  (1399, 6210)\t0.22420258876994575\n",
            "  (1399, 4689)\t0.22420258876994575\n",
            "  (1399, 2203)\t0.22420258876994575\n",
            "  (1399, 3955)\t0.22420258876994575\n"
          ]
        }
      ]
    },
    {
      "cell_type": "markdown",
      "source": [
        "COSINE SIMILARITY"
      ],
      "metadata": {
        "id": "gjvrchM6sjPd"
      }
    },
    {
      "cell_type": "code",
      "source": [
        "#getting the similarity score using cosine similarity\n",
        "similarity = cosine_similarity(feature_vectors)"
      ],
      "metadata": {
        "id": "Pox9nKy8sigV"
      },
      "execution_count": 79,
      "outputs": []
    },
    {
      "cell_type": "code",
      "source": [
        "print(similarity)"
      ],
      "metadata": {
        "colab": {
          "base_uri": "https://localhost:8080/"
        },
        "id": "ur6rjskvs4gS",
        "outputId": "0ba299e4-1f3c-4beb-c4dc-bbaace2b14c5"
      },
      "execution_count": 80,
      "outputs": [
        {
          "output_type": "stream",
          "name": "stdout",
          "text": [
            "[[1.         0.10457084 0.00618659 ... 0.02674187 0.01652326 0.04053726]\n",
            " [0.10457084 1.         0.04961868 ... 0.03508289 0.07909854 0.05722518]\n",
            " [0.00618659 0.04961868 1.         ... 0.         0.03889234 0.01153394]\n",
            " ...\n",
            " [0.02674187 0.03508289 0.         ... 1.         0.04434499 0.01276055]\n",
            " [0.01652326 0.07909854 0.03889234 ... 0.04434499 1.         0.02776065]\n",
            " [0.04053726 0.05722518 0.01153394 ... 0.01276055 0.02776065 1.        ]]\n"
          ]
        }
      ]
    },
    {
      "cell_type": "code",
      "source": [
        "print(similarity.shape)"
      ],
      "metadata": {
        "colab": {
          "base_uri": "https://localhost:8080/"
        },
        "id": "1vw8XT3Js8gS",
        "outputId": "5f54e727-bef5-4ef7-ed39-0680c893b425"
      },
      "execution_count": 81,
      "outputs": [
        {
          "output_type": "stream",
          "name": "stdout",
          "text": [
            "(1400, 1400)\n"
          ]
        }
      ]
    },
    {
      "cell_type": "code",
      "source": [
        "# getting the movie name by the user\n",
        "movie_name = input('Enter the Movie Name:')"
      ],
      "metadata": {
        "colab": {
          "base_uri": "https://localhost:8080/"
        },
        "id": "LfZwxOzytQ1_",
        "outputId": "a73e0d2f-70cd-4789-b2e3-e4b364eb0fa3"
      },
      "execution_count": 91,
      "outputs": [
        {
          "name": "stdout",
          "output_type": "stream",
          "text": [
            "Enter the Movie Name:Eega\n"
          ]
        }
      ]
    },
    {
      "cell_type": "code",
      "source": [
        "#creating a list with all the movie names given in the dataset\n",
        "\n",
        "list_of_all_titles = movies_data['Movie'].tolist()\n",
        "print(list_of_all_titles)"
      ],
      "metadata": {
        "colab": {
          "base_uri": "https://localhost:8080/"
        },
        "id": "zIQoGq45tjJC",
        "outputId": "2c88ffbd-4a42-4372-85ed-95e2f33a7c91"
      },
      "execution_count": 92,
      "outputs": [
        {
          "output_type": "stream",
          "name": "stdout",
          "text": [
            "['Bahubali: The Beginning', 'Baahubali 2: The Conclusion', '1 - Nenokkadine', 'Dhoom:3', 'Ra.One', 'Dhoom:2', 'Eega', 'Krrish 3', 'Arjun Reddy', 'Rangasthalam', 'Magadheera', 'War', 'Bharat Ane Nenu', 'Saaho', 'Theri', 'Dookudu', 'Pokiri', 'Sarkar', 'Athadu', 'The Ghazi Attack', 'Kabali', 'MSG: The Messenger of God', 'Nanban', 'Srimanthudu', 'Veer - Vivegam', 'Billa 2', 'Manam', '7 Aum Arivu', 'Bigil', 'Business Man', 'Geetha Govindam', 'Mahanati', 'Spyder', 'Nannaku Prematho', 'Dabangg 3', 'MSG 2 the Messenger', 'Manikarnika: The Queen of Jhansi', 'Race Gurram', 'Okkadu', 'Bommarillu', 'Atharintiki Daaredi', 'Khaleja', 'Yennai Arindhaal', 'Thalaivaa', 'Kaala', 'Bairavaa', 'Goodachari', 'Puli', 'Pulimurugan', 'Veeram', 'Vedam', 'Yevadu', 'Aravindha Sametha Veera Raghava', 'Billa', 'Jersey', 'Sye Raa Narasimha Reddy', 'Ala Vaikunthapurramuloo', 'Janatha Garage', 'Gabbar Singh', 'Temper', 'Game Over', 'Singam 2', 'Dhruva', 'Jalsa', 'Maharshi', 'Pelli Choopulu', 'Arya 2', 'Chekka Chivantha Vaanam', 'Naa Peru Surya Na Illu India', 'Ki & Ka', 'Seethamma Vakitlo Sirimalle Chettu', 'Singam 3', 'Agent Sai Srinivasa Athreya', 'Jai Lava Kusa', 'Arya', 'Maattrraan', 'Kochadaiiyaan', 'Thaanaa Serndha Koottam', 'OK Kanmani', 'Dear Comrade', 'Happy Days', 'Sarileru Neekevvaru', 'Julayi', 'Kshanam', 'Oopiri', 'Baadshah', '3', 'Sarrainodu', 'Kick', 'Leader', 'Anjaan', 'Khushi', 'Maya Bazaar', 'Rakhta Charitra', 'Mirchi', 'Chatrapathi', 'C/o Kancharapalem', 'Sachein', 'Murari', 'Vikramarkudu', 'Kuruthipunal', 'Brindaavanam', 'Panjaa', 'Nuvvu Naaku Nachchav', 'Gopala Gopala', 'Kaappaan', 'Aagadu', 'Masss', 'Maanagaram', 'Drushyam', 'Yamadonga', 'S/O Satyamurthy', 'Tholi Prema', 'Awe!', 'Yatra', 'Fidaa', 'Oosaravelli', 'Evaru', 'Odiyan', 'Khaidi No 150', 'NGK', 'Duvvada Jagannadham', 'Bale Bale Magadivoy', 'Shiva', 'Manmadhudu', 'Mr Perfect', 'Orange', 'Anirudh', 'Gamyam', 'Kanche', 'Naayak', 'Malliswari', 'Nuvvostanante Nenoddantana', 'Ye Maaya Chesave', 'Sagara Sangamam', 'Rudhramadevi', 'Cameraman Gangatho Rambabu', 'Majili', 'Uttama Villain', 'Arundhati', 'Agnyaathavaasi', 'Pilla Zamindar', '100% Love', 'Aa Naluguru', 'Darling', 'Aha Naa Pellanta', 'Vinaya Vidheya Rama', 'Happy', 'Ala Modalaindi', 'Prasthanam', 'Dhee', 'Iddarammayilatho', 'Simhadri', 'Taxiwaala', 'Parugu', 'Rakhta Charitra 2', 'Maryada Ramanna', 'Rachcha', 'HIT', 'Nota', 'U Turn', 'Thammudu', 'Zanjeer', 'Ezra', 'Bhaagamathie', 'Adhurs', 'Aditya 369', 'Sardaar Gabbar Singh', 'Gitanjali', 'Ninnu Kori', 'Indra', 'Vishwaroopam 2', 'Oru Adaar Love', 'Tholi Prema', 'Brochevarevarura', '7/G Rainbow Colony', 'Tagore', 'Gang Leader', 'Bujjigaadu: Made in Chennai', 'Sye', 'Yevade Subramanyam', 'Mathu Vadalara', 'Katamarayudu', 'Maari 2', 'Gautamiputra Satakarni', 'Rx 100', 'A... Aa', 'Aalavandhan', 'F2: Fun and Frustration', 'The House Next Door', 'Krishna Gaadi Veera Prema Gaadha', 'Prince', 'Sankarabharanam', 'Thoongaavanam', 'Govindudu Andari Vaadele', 'Anand', 'Raja Kumarudu', 'Baba', 'Dhammu', 'Ramayya Vastavayya', 'NTR: Kathanayakudu', 'Chirutha', 'Thaandavam', 'Athidhi', 'Kshana Kshanam', 'Penguin', 'Rudra Veena', 'Legend', 'Annamayya', 'Badrinath', 'Nenu Local', 'Oh Baby...', 'Sketch', 'Hello Guru Prema Kosame', 'Rabhasa', 'Sainikudu', 'Ishq', 'Arjun', 'Badri', 'Krishnarjuna', 'Hello', 'Saleem', 'Nijam', 'Bruce Lee: The Fighter', 'MCA Middle Class Abbayi', 'Ee Nagaraniki Emaindi', 'Nenu Sailaja', 'Gentleman', 'Student No. 1', 'Kumari 21F', 'Billa', 'Love Ke Liye Kuch Bhi Karega', 'Run Baby Run', 'Chitralahari', 'Shankar Dada MBBS', 'Teen Maar', 'Kanthaswamy', 'Komaram Puli', 'Rebel', 'iSmart Shankar', 'Anukokunda Oka Roju', 'Bheeshma', 'Karthikeya', 'Desamuduru', 'Gunde Jaari Gallanthayyinde', 'Pailwan', 'World Famous Lover', 'Theeya Velai Seiyyanum Kumaru', 'Raja The Great', 'Kadaram Kondan', 'Sammohanam', 'Simha', 'Aithe', 'Takkari Donga', 'Kadhalil Sodhappuvadhu Yeppadi', 'Pammal K. Sambandam', 'Kanchana 2', 'Saroja', 'Vel', 'Pandavulu Pandavulu Thummeda', 'Doosukeltha', 'Gundamma Katha', 'Oohalu Gusagusalade', 'Rowdy', 'Devadas', 'Sokkali Mainor', 'Dhenikaina Ready', 'Political Rowdy', 'Anukshanam', 'Stalin', 'Godavari', 'Suryam', 'Balu', 'Savyasachi', 'Nene Raju Nene Mantri', 'Varsham', 'Kaashmora', 'Run Raja Run', 'Abhiyum Naanum', 'Eedo Rakam Aado Rakam', 'Asthram', 'Ready', 'Irandam Ulagam', 'Sree', 'Aadi', 'Jhummandi Naadam', 'Pandurangadu', 'Naani', 'Game', 'Shatamanam Bhavati', 'Mass', 'Swamy Ra Ra', 'Ekkadiki Pothavu Chinnavada', 'Amazon Obhijaan', 'Chi La Sow', 'Kaathala Kaathala', 'Kanchana 3', 'Vishnu', 'Rakhi', 'Oh My Friend', 'Balupu', 'Aadavari Matalaku Ardhalu Verule', 'Prayanam', 'Antariksham 9000 kmph', 'Konchem Ishtam Konchem Kashtam', 'Jamba Lakidi Pamba', 'Kotigobba 2', 'Kaadhal', 'Current Theega', 'MalliRaava', 'Saahasam Swaasaga Saagipo', 'Premam', 'Johnny', 'King', 'Endrendrum Punnagai', 'Mugamoodi', 'NTR Mahanayakudu', 'PSV Garuda Vega', 'Kurukshetra', 'Uu Kodathara Ulikki Padathara', 'Mr. Nookayya', 'Mirapakai', 'Nenu Meeku Telusa...?', 'Satya 2', 'Pooja', 'Naan Sigappu Manithan', 'Sakthi', 'Uyyala Jampala', 'Khadgam', 'Major Chandrakanth', 'Bachchan', 'Manu', 'Hyderabad Blues', 'Bunny', 'Ragile Gundelu', 'Sri Rama Rajyam', 'Varudu', 'Rakshasudu', 'Gharshana', 'Gaganam', 'Amar Akbar Anthony', 'Kathakali', 'Krishnarjuna Yudham', 'Express Raja', 'Kuselan', 'Don', 'Kantri', 'Malli Malli Idhi Rani Roju', 'Raju Bhai', 'Ayogya', 'Gudumba Shankar', 'Potugadu', 'Vastadu Naa Raju', 'Dubai Seenu', 'Dongata', 'Sahasam', 'Dynamite', 'Alex Pandian', 'Ragada', 'Run', 'Chalo', 'Munna', 'Disco Raja', 'Krishna and His Leela', 'Yeto Vellipoyindhi Manasu', 'Praana', 'Shankardada Zindabad', 'Padi Padi Leche Manasu', 'Punya Bhoomi Naa Desam', 'Quick Gun Murugun: Misadventures of an Indian Cowboy', 'Adavilo Anna', 'Thamizh Padam', 'Ek Niranjan', 'Annavaram', 'Bindaas', 'Prema Katha Chitram', 'Jagadeka Veerudu Athiloka Sundari', 'Vismayam', 'Missamma', 'Gaddalakonda Ganesh', 'Oka Laila Kosam', 'Venky Mama', 'Kick 2', 'Gayatri', '180', 'Shourya', 'Ashta Chamma', 'Sigappu Rojakkal', 'LIE', 'Power', 'Dev', 'Pataas', 'Okkadu Migiladu', 'Majnu', 'Srinivasa Kalyanam', 'Luck Unnodu', 'Amma Nanna O Tamila Ammayi', 'Jayasurya', 'Bangaram', 'Dora', 'Don Seenu', 'Vunnadhi Okate Zindagi', 'Krishnam Vande Jagadgurum', 'Killing Veerappan', 'Gunturodu', 'Mr. Majnu', 'Not Today', 'Oy!', 'Nuvve.. Nuvve...', 'Loukyam', 'Swathi Muthyam', 'Life Is Beautiful', 'Yuvaraju', 'Chal Mohan Ranga', 'Vamsee', 'Endukante... Premanta', 'Veyyil', 'Mallesham', 'Attack', 'Mosagallaku Mosagadu', 'Kandireega', 'Raju Gari Gadhi 2', 'Superstar Kidnap', 'Pournami', 'Ninne Pelladatha', 'Shailaja Reddy Alludu', 'Jamba Lakidi Pamba', 'Jaya Janaki Nayaka', 'Akkada Ammayi Ikkada Abbayi', 'Pichhodu', 'Bobby', 'Okka Kshanam', 'Achari America Yathra', 'Sathyaa', 'Bengal Tiger', 'Ashok', 'Coolie No. 1', 'Pathala Bhairavi', 'Goutham Nanda', 'Gang Leader', 'Golmaal', 'Mahanubhavudu', '118', 'Heart Attack', 'Dictator', 'Idiot', 'Neninthe', 'Rarandoi Veduka Chudham', 'Aswathama', 'Yamajaathakudu', 'Jaanu', 'Neevevaro', 'Power Unlimited 2', 'Guru', 'Kee', 'Jagadam', 'Daruvu', 'Damarukam', 'Super', 'Krishna: The Power of Indrakeeladri', 'Chakram', 'Size Zero', 'Bhadra', 'Erra Buss', \"Lakshmi's NTR\", 'Dhoni', 'Appatlo Okadundevadu', 'Akhil', 'Daana Veera Soora Karna', 'Aadhi Bhagavan', 'Devudu Chesina Manushulu', 'Falaknuma Das', 'Raju Maharaju', 'Adhipathi', 'Peda Rayudu', 'Nela Ticket', 'Prati Roju Pandaage', 'Veera', 'Kotha Bangaru Lokam', 'Santosham', 'Venky', 'Jai Simha', 'Nuvve Kavali', 'Samba', 'Lava Kusa', 'George Reddy', 'Subramanyam for Sale', 'Bhoot Returns', 'Suswagatham', 'Dohchay', 'Andala Rakshasi', 'Raja', 'Sambo Siva Sambho', 'Okkadunnadu', 'Manmadhudu 2', 'Paisa Vasool', 'Lakshmi', 'Chantabbai', 'Anji', 'Dhada', 'Uthama Puthiran', 'Jai Chiranjeeva', 'Magalir Mattum', 'Anaganaga O Dheerudu', 'Supreme Khiladi', 'Aakali Rajyam', 'Okka Magadu', 'Phoonk 2', 'Tappu Chesi Pappu Koodu', 'Bhairava Dweepam', 'Needi Naadi Oke Katha', 'Narasimha Naidu', 'Guru', 'Chintakayala Ravi', 'Yogi', 'Yaman', 'Anando Brahma', 'Vanaja', 'Raja Vaaru Rani Gaaru', 'Gangotri', 'Golimar', 'Narasimhudu', 'Swayam Krushi', 'Mental Madhilo', 'Gaayam', 'Rayalaseema Ramanna Chowdary', 'Gokulamlo Seetha', 'Rajanna', 'Madha', 'Hushaaru', 'Settai', 'Swarnakamalam', 'Tadakha', 'Nenu Naa Rakshasi', 'Diya', 'Vikram', 'Kadhal Desam', 'Mudra', 'Naa Autograph Sweet Memories', 'Dum Dum Dum', 'Challenge', 'Kalisundam Raa', 'Pandaga Chesko', 'Lakshmi', 'Daddy', 'Seetha', 'Kalki', 'Parama Veera Chakra', 'Samarasimha Reddy', 'Andhrawala', 'Hyper', 'Kalloori', 'Veera', 'Criminal', 'Gharana Mogudu', 'Namo Venkatesa', 'Karnan', 'Annayya', 'Mesthri', 'Little Soldiers', 'Alludu Seenu', 'Yuddham Sharanam', 'Khaidi', 'Shiva Shankar', 'Bavagaru Bagunnara?', 'Nannu Dochukunduvate', 'Hello Brother', 'Naa Alludu', 'Shamantakamani', 'Thulasi', 'Keshava', 'Maja', 'Aata', 'Choodalani Vundi', 'Ranarangam', 'Mukunda', 'Allari Police', 'Kirrak Party', 'Chenna Kesava Reddy', 'Sarocharu', 'Nadunisi Naaygal', 'Nagavalli', 'Ennaku 20 Unakku 18', 'Bodyguard', 'Raju Gari Gadhi 3', 'Josh', 'Greeku Veerudu', 'Lakshmi Narasimha', 'Autonagar Surya', 'Style', 'Shivamani', 'Surya vs. Surya', 'Swathi Kiranam', 'Alluda Majaaka!', 'Kavacham', 'Chinnadana Nee Kosam', 'Hrudaya Kaleyam', 'Mama Manchu Alludu Kanchu', 'Prathinidhi', 'Meesrti', 'Khatarnak', 'Ritu', 'Sri Ramadasu', 'Jawaan', 'Maalai Nerathu Mayakkam', 'Janaki Ramudu', 'Koduku Diddina Kapuram', 'Subedar Joginder Singh', 'Anasuya', 'Postman', 'Seven', 'Jil', 'Solo', 'Andarivaadu', 'Anthahpuram', 'Samrat Ashok', 'Aapathbandavudu', 'Aaha Kalyanam', 'Allari Pidugu', 'Officer', 'Paisa', 'Yaan', 'Alluri Seetharama Raju', 'Adavi Donga', 'Madhuram', 'Vasu', 'Shiva', 'Saakshyam', 'Shadow', 'Babu Bangaram', 'Shivam', 'Rayudu', 'Lion', 'Pantham', 'Govindha Govindha', 'Nippu', 'Pasivadi Pranam', 'Chanakya', 'Kondaveeti Raja', 'Jessie', 'Ninu Veedani Needanu Nene', 'E', 'Ramayanam', 'Meeku Matrame Chepta', 'Jay Jay', 'Naaga', 'Venkatadri Express', 'Golkonda High School', 'Khaidi No. 786', 'Morning Raga', 'Hitler', 'Anjaneyulu', 'Khaidi Garu', 'Thimiru', 'Loafer', 'Collector Garu', 'Tej I Love U', 'Winner', 'Anveshana', 'Ism', 'Abhinetri', 'Allari Ramudu', 'Devadasu', 'Kodama Simham', 'April 1 Vidudala', 'Lankeshwarudu', 'Kondaveeti Donga', 'O Pitta Katha', 'Mutamestri', 'Subbu', 'Pilla Nuvvu Leni Jeevitham', 'Sri Ramulayya', 'Boss', 'Anaganaga Oka Roju', 'Raghavendra', 'Kondaveeti Simhasanam', 'Cinema Chupista Maava', 'Sri Jagadguru Adi Shankara', 'Hawaa', 'Toofan', 'Ongole Githa', 'Chukkallo Chandrudu', 'Indrudu Chandrudu', 'Sankranthi', 'Aa Okkati Adakku', 'Eeshwar', 'Ratchakan', 'Maruthu', 'Yamudiki Mogudu', 'Police Police', 'Evvarikee Cheppoddu', 'Sudigaadu', 'Rama Rama Krishna Krishna', 'Geethanjali', 'Padamati Sandhya Ragam', 'Sri Manjunatha', 'Vennela', 'Jaguar', 'Marshal', 'Master', 'Maska', 'Assembly Rowdy', 'Mehbooba', 'Sneham Kosam', 'Sindhu Bhairavi', 'Adhinayakudu', 'Lakshyam', 'Adavi Ramudu', 'Kunti Puthrudu', 'Mathangi', 'Brahma', 'Alludugaru', 'Oka Chinna Viramam', 'Nenu Lenu', 'Mrugaraaju', 'Bharani', 'Dil', 'Ullasanga Utsahanga', 'Kedi', 'Shock', 'Jyo Achyutananda', 'Mithunam', 'Palasa 1978', 'Maro Charithra', 'Pelli Pustakam', 'Boy', 'Yamaleela', 'Suryavamsam', 'Kaakki Sattai', 'Ammoru', 'Ninnu Choodalani', 'Premante Idera', 'Devadasu', 'Ninaithale Inikkum', 'Jayam', 'Mugguru', 'Ganesh', 'Arjun Reddy', 'Vangaveeti', 'Chandamama Kathalu', 'Chandamama', 'Rowdy Fellow', 'Shirdi Sai', 'Sisindri', 'Manasantha Nuvve', 'Seetharamaiah Gari Manavaralu', 'Bhale Manchi Roju', 'Devi Putrudu', 'Super Duper', 'Subhash Chandra Bose', 'Hyderabad Blues 2', 'Vijetha', 'Veera Bhoga Vasantha Rayalu', 'Tik Tik Tik', 'Detective Naarada', 'Kalyana Vaibhogame', 'Heza', 'Narthanasala', 'Nenunnanu', 'Ganesh', 'Veedevadandi Babu', 'Sirivennela', 'Routine Love Story', 'Intlo Illalu Vantaintlo Priyuralu', 'Guna 369', 'Anandam', 'Masala', 'Entha Manchivaadavuraa', 'Ruler', 'Om Namo Venkatesaya', 'Gundello Godari', 'Rowdy Gari Pellam', 'Paper Boy', 'Mister', 'Raju Gari Gadhi', 'Thodarum', 'Allari Mogudu', 'Nirnayam', 'Dharma Bhai', 'Software Sudheer', 'Bhageeratha', 'Azaad', 'Minugurulu', 'Raaja Paarvai', 'Vijayendra Varama', 'Mogudu', 'Jayam Manadera', 'Oxygen', 'Athaku Yamudu Ammayiki Mogudu', 'Sindhooram', 'Bezawada', 'Satyam', 'Avunu Valliddaru Ishtapaddaru', 'Baladoor', '2 Hours Love', 'Sakalakala Vallavan', 'MLA', 'Appula Appa Rao', 'Radha', 'Ladies Tailor', 'Abhilasha', 'Srimannarayana', 'Katha Screenplay Darsakatvam: Appalaraju', 'Chandralekha', 'Maharadhi', 'Speedunnodu', 'Subhalekha', 'Asura', 'Palnati Brahmanayudu', '@ Nartanasala', 'Nuvvu Nenu', 'Rowdy Mogudu', 'Vijetha', 'Ravoyi Chandamama', 'Dream', 'Preminchukundam Raa', 'Vasantham', 'Chanti', 'Bobbili Raja', 'Kataka', 'Dongala Mutha', 'Chitemma Mogudu', 'Subha Sankalpam', 'Maa Inti Katha', 'W/o Ram', 'James Bond', 'Padmavyuham', 'Avunu', 'Veerabhadra', 'Iddaru Mitrulu', 'Singham123', 'Anaamika', 'Sasirekha Parinayam', 'Bendu Apparao RMP', 'Rajaratha', 'Danger', 'Andari Bandhuvaya', 'Seenu', 'Janda Pai Kapiraju', 'Deyyam', 'Rowdy Alludu', 'Krishna Aur Kans', 'Seema Tapakai', 'Mahathma', 'Baanam', 'Bhai', 'Itlu Sravani Subramanyam', 'Sathyam', 'Bhale Ramudu', 'Pressure Cooker', 'Ranam', 'Aavida Maa Aavide', 'Alavuddinum Athbutha Vilakkum', 'Naa Mogudu Nanke Sontham', 'Sri Anjaneyam', 'Chiru Navvuto', 'Operation Gold Fish', 'Subrahmanyapuram', 'Baava', 'Veera Prathap', 'Courier Boy Kalyan', 'Jabardasth', 'Pellam Oorelithe', 'Hanuman Junction', 'Money', 'Ninnu Thalachi', 'Jayammu Nischayammuu Raa', 'A Film by Aravind', 'Ye Mantram Vesave', 'Bhakta Prahlada', 'Souryam', 'Blade Babji', 'Devi', 'Gulabi', 'Rajendrudru Gajendrudru', 'Lovely', 'Adhirindhi Alludu', 'Andhrudu', 'Malliswari', 'Bluff Master', 'Aatagadharaa Siva', 'Rechipo', 'Kadhal Sadugudu', 'Ra Ra Krishnayya', 'Nuvvu Vasthavani', 'Prathigna', 'Life Before Wedding', 'Silly Fellows', 'Donga Police', 'Sundara Kanda', 'Chitram Bhalare Vichitram', 'Ninne Premistha', 'Sahasa Veerudu Sagara Kanya', 'Bhookailas', 'Antham', 'Ami Thumi', 'Oka Manasu', 'Aatadista', 'Poola Rangadu', 'Kitakitalu', 'Money Money', 'Prema Katha', 'Enga Veetu Pillai', 'Missamma', 'Sitaramaraju', 'Desa dimmari', 'Sparsha', 'Case No. 666/2013', 'I Love You', 'Nayaki', 'Ee Rojullo', 'Kamma Rajyam Lo Kadapa Reddlu', 'Mugguru Monagallu', '24 Kisses', 'Next Enti?', 'Naa Bangaaru Talli', 'Anthaka Mundu Aa Tarvatha', 'Edadugula Bandham', 'Naa Nuvve', 'All the Best', 'Ranga (S.S.L.C)', 'Maanavudu Daanavudu', 'Athanokkade', 'Seema Sastry', 'Amma Cheppindi', 'Kalyanaraman', 'Sankham', 'Ride', 'Ave Kallu', 'Suryakantham', 'Bhale Dongalu', 'Kousalya Krishnamurthy', 'Andhhagadu', 'Okka Ammayi Thappa', 'Bheemli Kabadi Jattu', 'Naa Ishtam', 'Saptapadhi', 'Voter', 'Sankarabharanam', 'Chaarulatha', 'Prema Kavali', 'Ontari', 'Killer', 'Mr. Pellam', 'Ammammagarillu', 'Brand Babu', 'Bama Vijayam', 'Mitrudu', 'Mr. Medhavi', 'Dharma Chakram', 'Chettu Kinda Pleader', 'Hippi', 'Aha Naa Pellanta', 'Veta', 'Aatagallu', 'Thikka', 'Dorasani', 'Allari Bullodu', 'Peddarikam', 'Kalathur Kannamma', 'Raju Gadu', 'Guntur Talkies', 'Kshemanga Velli Labhamga Randi', 'Kotha Janta', 'Iddari Lokam Okate', 'Eduruleni Manishi', 'Mathru Devo Bhava', 'Kittu Unnadu Jagratha', 'Ice Cream', 'Nuvva Nena', 'Rama Chakkani Seetha', 'Jappanil Kalyanaraman', 'Idaya Kovil', 'Jaihind 2', 'Nuvvila', 'Srivaariki Premalekha', 'Mard Ki Zabaan 2', 'Hyderabad Nawabs', 'Veede', 'Nari Nari Naduma Murari', 'Mayalodu', 'Raja Vikramarka', 'ABCD: American-Born Confused Desi', 'Alludu Diddina Kapuram', 'Hare Ram', 'Yamagola', 'Meendum Kokila', 'M Dharmaraju M.A.', 'Prema Panjaram', 'Tenali Ramakrishna BA.BL', 'Gowtham SSC', 'Kanchana', 'Mayuri', 'Swayamvaram', 'Seetharamula Kalyanam Lankalo', 'Pavitra Bandham', 'Bala Gopaludu', 'Yuvakudu', 'Jayammu Nischayammu Raa!', 'Manchi Donga', 'Big Boss', 'Idam Jagath', 'Happy Wedding', 'Nuvvu Leka Nenu Lenu', 'Thoongathey Tambi Thoongathey', 'Yamudiki Mogudu', 'Bommana Brothers Chanadana Sisters', 'Rowdy Inspector', 'Sontham', 'Annai Oru Aalayam', 'Wanted', 'Panchakshari', 'Snehamante Idera', 'Soggadi Pellam', 'Bhale Donga', '1st Rank Raju', 'Dongodu', 'Devullu', 'Sardar Papa Rayudu', 'Srinivasa Kalyanam', 'Pourudu', 'Amrutha Ramam', 'Prematho Raa', 'Bumper Offer', 'Mangamma Gari Manavadu', 'Yudda Bhoomi', 'Rayalaseema Love Story', 'Soggadu', 'Budget Padmanabham', 'Swargam Narakam', 'Manmatha Leelai', 'Emo Gurram Egaravachu', 'Ayyare', 'Valayam', 'Babai Abbai', 'Two Town Rowdy', 'State Rowdy', 'Aradhana', 'Idhi Mamulu Prema Katha Kaadu', 'Rey', 'Prema Yuddham', 'Samudram', 'Kabaddi Kabaddi', 'Sruthilayalu', 'Rikshavodu', 'Muthyala Muggu', 'Napoleon', 'Bazaar Rowdy', 'Pelli Sandadi', 'Idi Ma Prema Katha', 'Babu Baga Busy', 'Rogue', 'Bhanumathi & Ramakrishna', 'S. P. Parasuram', 'Ala Ela', 'Kevvu Keka', 'Mantra', 'Runam', 'Choopulu Kalasina Subhavela', 'Manoharam', 'Agni', 'Appu Chesi Pappu Koodu', 'Siddu from Srikakulam', 'Nachavule', 'Yagnam', 'Mee Sreyobhilashi', 'Kadapa Redamma', 'Ghatotkachudu', 'Jagadeka Veeruni Katha', 'Kanyasulkam', 'Snehamera Jeevitham', 'Kobbari Matta', 'Dhruvanakshatram', 'Per Sollum Pillai', 'Vivaha Bhojanambu', 'Shanti Kranti', 'Sukumarudu', 'Fitting Master', 'Operation Duryodhana', 'Prema', 'Mooga Manasulu', 'Ontari Poratam', 'Tandra Paparayudu', 'Nireekshana', 'Premaabhishekam', 'Savaari', 'Surya IPS', 'Maharasan', 'Chakravarthy', 'Lover', 'Jadoogadu', 'Allari Alludu', 'Pandava Vanavasamu', 'Mechanic Alludu', 'Kondaveeti Simham', 'Malini 22', 'Bobbili Simham', 'Show', 'Varasudochhadu', 'Family Circus', 'Edurinti Mogudu Pakkinti Pellam', 'Adavi Ramudu', 'Donga', 'Aakhari Poratam', 'Rough', 'Paathshala', 'Kathi Kanta Rao', 'Pelli Chesukundam', 'Black Tiger', 'Sri Krishna Pandaveeyam', 'Nakshatram', 'Subhalagnam', 'Hai Hai Nayaka', 'Om Shanti', 'Pellaina Kothalo', 'Anukunnadi Okkati Ayyindhi Okati', 'Grahanam', 'Chinnabaabu', 'Karthavyam', 'Raakshasudu', 'Neeya', 'D for Dopidi', 'Mugguru Kodukulu', 'Balachandrudu', 'Vinodam', 'Vijay', 'Sri Shirdi Saibaba Mahathyam', 'Anthuleni Katha', 'Mithai', 'Tiger', 'Luv U Alia', 'Brother of Bommali', 'Mr. Pellikodukku', 'Broker', 'Current', 'Evadi Gola Vadide', 'Bangaru Bullodu', 'Karma', 'Murali Krishnudu', 'Varasudu', 'Seetha Rama Kalyanam', 'Rendu Rella Aaru', 'Sampoorna Ramayanam', 'Chuttalabbayi', 'Columbus', 'Raagala 24 Gantallo', 'Andala Ramudu', 'Brahma Puthrudu', 'Alibaba Aradajanu Dongalu', 'Thipparaa Meesam', 'Sitaara', 'Chettaniki Kallu Levu', 'Manasuku Nachindhi', 'Om 3D', 'Action', 'Dongala Bandi', 'Sultan', 'Love Today', 'Samanyudu', 'Sathruvu', 'Gandeevam', 'Punnami Naagu', 'Jyothi Lakshmi', 'Avakai Biryani', 'Lorry Driver', 'Padaharella Vayasu', 'Prananiki Pranam', 'Akasa Veedhilo', 'Totti Gang', 'Allari', 'Savitri', 'Peddinti Alludu', '143', 'Superman', 'Abhinandana', 'Justice Chowdhary', 'Gharana Bullodu', 'Intlo Ramayya Veedilo Krishnayya', 'Anna Thamudu', 'Krishnamma Kalipindi Iddarini', 'Nandhi', 'Sons of Ram', 'Kondapalli Raja', 'Bava Nachadu', 'Seema Simham', 'Sandade Sandadi', 'Donga Ramudu', 'Vetagadu', 'Sher', 'Kaamannana Makkalu', 'Vinayakudu', 'Dongaata', '90 ML', 'Kathanam', 'Ramudu Bheemudu', 'Patel S.I.R', 'Nagarahaavu', 'Selfie Raja', 'Wish You Happy Breakup', 'Lovers', 'Ramudochhadu', 'Radha Gopalam', 'Donga Mogudu', 'Rangula Raatnam', 'Adda', 'Kalidasu', 'Ela Cheppanu', 'Vishwanatha Nayakudu', 'Sri Madvirat Veera Brahmendra Swamy Charitra', 'Brahma', 'Madatha Kaaja', 'Dollar Dreams', 'Betting Bangarraju', 'Athili Sathibabu LKG', 'Vinara sodara veera kumara', 'Tenali Ramakrishna', 'Maharshi', 'Idi Kathakaadu', 'Agni Nakshatram', 'Bandipotu', 'Onamalu', 'Vaana', 'Jodi', 'Madhumasam', 'Bhakta Prahlada', 'Team 5', 'Sandhippoma', 'Ice Cream 2', 'Okkadine', 'Kiccha Huccha', 'Visakha Express', 'Aaviri', 'Brindavanam', 'Rudranetra', 'Kaali', 'Bobbili Puli', 'Manavoori Pandavulu', 'Next Nuvve', 'Joru', 'Ko antey koti', 'Kalyan Ram Kathi', 'Priyamyna Neeku...', 'Vamsodharakudu', 'Super Police', 'Bamma Maata Bangaru Baata', 'Mantra 2', 'Prema Ishq Kaadhal', 'Galipatam', 'Katha', 'Peddannayya', 'Lakshmi Kalyanam', 'Avunanna Kadanna', 'Bava Bava Panneeru', 'Balakrishnudu', 'Partha', 'Athade Oka Sainyam', 'Rakshana', 'Garam', 'Raja Cheyyi Vesthe', \"It's My Love Story\", 'Okariki Okaru', 'Kurradu', 'Homam', 'Raahu', 'Gulebakavali Katha', 'Nene Raju Nene Manthri', 'Osey Ramulamma', 'Trinetrudu', 'Oka Oori Katha', 'Bhale Manchi Chowka Beram', 'Bhairava Geetha', 'Naanna Nenu Naa Boyfriends', 'Basanti', 'Mansara', 'Gaayam 2', 'Village lo Vinayakudu', 'Abbaigaru', 'Ammo Okato Tariku', 'Raksha', 'Stoovertpuram Police Station', 'Srimanthudu', 'Lakshmi Raave Maa Intiki', 'Mr. Theertha', 'Ee Abbai Chala Manchodu', 'Yemaindi Ee Vela', 'Aadu Puli Attam', 'Subhakankshalu', 'Samsaaram Oka Chadarangam', 'Intinti Bhagavatham', 'Driver Ramudu', 'Saradaga Kasepu', 'Snehithuda', 'Kaasi', 'Prema Pipasi', 'Uyarntha Ullam', 'Pekata Paparao', 'Praja pratinidhi', 'Meghasandesam', 'Joker', 'Marana Mrudangam', 'Maa Bhoomi', 'Kerintha', 'Tripura', '123', 'Jaffa', 'Jai Bolo Telangana', 'Nee Sneham', 'Maro Charitra', 'Aswamedham', 'Rachayitha', 'Terror', 'Avunu Part 2', 'Kashi from Village', 'Aadu Magaadra Bujji', 'Papikondalu', 'RDX Love', 'Rajdooth', 'Classmates', 'Oka Radha Iddaru Krishnulu', 'Sri Kanaka Mahalakshmi Recording Dance Troupe', 'Sri Krishnarjuna Yudham', 'Rambantu', 'Intlo Dayyam Nakemi Bhayam', 'Amrutham Chandamama Lo', 'Nirmala Convent', 'Gruha Pravesam', 'Beach Road Chetan', 'Undiporaadhey', 'Sardar Dharmanna', 'Biwi No. 2', 'Muddula Mavayya', 'Parugo Parugu', 'Top Hero', 'Allari Priyudu', 'Jebu Donga', 'Devatha', 'Thayillamal Nannilai', 'Nandini Nursing Home', 'Nenu', 'Muddula Mogudu', 'Dhairyam', 'Pravarakyudu', 'Choosi Choodangaane', 'Burra katha', 'Mayabazaar', 'Panduranga Mahatyam', 'Ankuram', 'Manthrigari Viyyankudu', '365 Days', 'Maa Alludu Verygood', 'Nampalli Nagu', 'Sambaram', 'Kurukshetramu', 'Chanakya Chandragupta', 'Parthal Pasi Theerum', 'Krishnashtami', 'Malaikottai', 'Thakita Thakita', 'Inkosari', 'Kalusukovalani', 'Raam', 'Neeku Nenu Naaku Nuvvu', 'Golmaal Govindam', 'Taskara', 'SMS - Siva Manasulo Sruthi', 'Nammanna', 'Neeku Naaku Dash Dash', 'Sneha Geetham', 'Baachi', 'Ammo Bomma', 'Swagatam', 'Evadithe Nakenti', 'Mosagalaku Mosagaadu', 'Kalyana Ramudu', 'Chinnabbayi', 'Ugranarasimham', 'Paramanandayya Shishyula Katha', 'Adhugo', 'Seethamma Andalu Ramayya Sitralu', 'Run', 'Raaj', 'Takkari', 'Victory', 'Screenplay of an Indian Love Story', 'Chal Mohana Ranga', 'Andha Oru Nimidam', 'Maavichiguru', 'Sri Krishnarjuna Vijayam', 'Gudachari No.1', 'Billa Ranga', 'Vicky Dada', 'Kondura (The Sage from the Sea)', 'Money Money More Money', 'President Gari Pellam', 'Evaraina Eppudaina', 'Maro Monagadu', 'Jakkanna', 'Muvva Gopaludu', 'Ninney Ishta Paddaanu', '9 Nelalu']\n"
          ]
        }
      ]
    },
    {
      "cell_type": "code",
      "source": [
        "#finding the close match for the movie name given by the user\n",
        "find_close_match = difflib.get_close_matches(movie_name,list_of_all_titles)\n",
        "print(find_close_match)"
      ],
      "metadata": {
        "colab": {
          "base_uri": "https://localhost:8080/"
        },
        "id": "CczfkJBzuLnV",
        "outputId": "fcafc5b3-247d-42fd-e0ba-a7fbc184c53f"
      },
      "execution_count": 93,
      "outputs": [
        {
          "output_type": "stream",
          "name": "stdout",
          "text": [
            "['Eega']\n"
          ]
        }
      ]
    },
    {
      "cell_type": "code",
      "source": [
        "close_match = find_close_match[0]\n",
        "print(close_match)"
      ],
      "metadata": {
        "colab": {
          "base_uri": "https://localhost:8080/"
        },
        "id": "U6O024Ftu8Hh",
        "outputId": "2d473dcd-811d-42c4-b228-08b7ba3486b1"
      },
      "execution_count": 94,
      "outputs": [
        {
          "output_type": "stream",
          "name": "stdout",
          "text": [
            "Eega\n"
          ]
        }
      ]
    },
    {
      "cell_type": "code",
      "source": [
        "# Find the index of the movie with title\n",
        "index_of_the_movie = movies_data[movies_data['Movie'] == close_match].index[0]\n",
        "print(index_of_the_movie)"
      ],
      "metadata": {
        "colab": {
          "base_uri": "https://localhost:8080/"
        },
        "id": "rQDo5fO3vHrp",
        "outputId": "d8c16218-e8d2-4bf4-d635-64bf1d795a0e"
      },
      "execution_count": 100,
      "outputs": [
        {
          "output_type": "stream",
          "name": "stdout",
          "text": [
            "6\n"
          ]
        }
      ]
    },
    {
      "cell_type": "code",
      "source": [
        "#getting the list of similar movies\n",
        "similarity_score = list(enumerate(similarity[index_of_the_movie]))\n",
        "print(similarity_score)\n"
      ],
      "metadata": {
        "colab": {
          "base_uri": "https://localhost:8080/"
        },
        "id": "zBB2FUbmweHx",
        "outputId": "26b74875-80bc-4834-d211-d794aa9a3ab9"
      },
      "execution_count": 101,
      "outputs": [
        {
          "output_type": "stream",
          "name": "stdout",
          "text": [
            "[(0, np.float64(0.035349506927619616)), (1, np.float64(0.033726080776540664)), (2, np.float64(0.08772004218558258)), (3, np.float64(0.0323284212562278)), (4, np.float64(0.01949194954718523)), (5, np.float64(0.027908513436920423)), (6, np.float64(1.0000000000000002)), (7, np.float64(0.05834226596181804)), (8, np.float64(0.03902149351046401)), (9, np.float64(0.0586257858389587)), (10, np.float64(0.08642293455451447)), (11, np.float64(0.018177036139082774)), (12, np.float64(0.01211187568229877)), (13, np.float64(0.018124789346480312)), (14, np.float64(0.03416252318500911)), (15, np.float64(0.02824986590926317)), (16, np.float64(0.022885230035689777)), (17, np.float64(0.025203604554143007)), (18, np.float64(0.047229450516525585)), (19, np.float64(0.014138232846559611)), (20, np.float64(0.023019874777592826)), (21, np.float64(0.02049561081821918)), (22, np.float64(0.006023598812045)), (23, np.float64(0.030798644850005896)), (24, np.float64(0.02195912936184539)), (25, np.float64(0.014768894903968904)), (26, np.float64(0.0570295161965957)), (27, np.float64(0.02722369434157626)), (28, np.float64(0.14712223541114333)), (29, np.float64(0.05770979168637566)), (30, np.float64(0.04823964949474023)), (31, np.float64(0.00573807133883075)), (32, np.float64(0.01784121629563476)), (33, np.float64(0.08397397301768414)), (34, np.float64(0.05938225849099758)), (35, np.float64(0.04666201492055707)), (36, np.float64(0.016817365846354435)), (37, np.float64(0.027799354352517548)), (38, np.float64(0.02576931928355191)), (39, np.float64(0.052449057595675405)), (40, np.float64(0.010130777491721336)), (41, np.float64(0.06917512386066993)), (42, np.float64(0.04979737350638435)), (43, np.float64(0.025119152301836166)), (44, np.float64(0.015184802056757242)), (45, np.float64(0.028432503428516068)), (46, np.float64(0.07675602989643728)), (47, np.float64(0.06645261786115987)), (48, np.float64(0.03808290323041574)), (49, np.float64(0.05170739135611864)), (50, np.float64(0.010033719943930229)), (51, np.float64(0.12927758187710525)), (52, np.float64(0.021599067544134216)), (53, np.float64(0.02726723643856551)), (54, np.float64(0.034105686419429)), (55, np.float64(0.010378027943221738)), (56, np.float64(0.023587000139375734)), (57, np.float64(0.043322963284815795)), (58, np.float64(0.05827116980787489)), (59, np.float64(0.019185841540077915)), (60, np.float64(0.01272535309247064)), (61, np.float64(0.011578975018842981)), (62, np.float64(0.02291635346318202)), (63, np.float64(0.04627414915532169)), (64, np.float64(0.032155413556269)), (65, np.float64(0.011905130809562636)), (66, np.float64(0.020846209766918374)), (67, np.float64(0.05480823095766854)), (68, np.float64(0.027875164806137182)), (69, np.float64(0.006698905655989914)), (70, np.float64(0.004803182430616333)), (71, np.float64(0.006354832510379774)), (72, np.float64(0.011540188779202952)), (73, np.float64(0.0592148658739679)), (74, np.float64(0.016349791394452456)), (75, np.float64(0.01425868768757808)), (76, np.float64(0.03910089173417336)), (77, np.float64(0.048350139414447664)), (78, np.float64(0.006218038789335161)), (79, np.float64(0.02379710149326351)), (80, np.float64(0.0)), (81, np.float64(0.026582522096389415)), (82, np.float64(0.04016711943110322)), (83, np.float64(0.024124256689946062)), (84, np.float64(0.039658763982162504)), (85, np.float64(0.029421223806960217)), (86, np.float64(0.010742005022290153)), (87, np.float64(0.035780923312898796)), (88, np.float64(0.017333283219350876)), (89, np.float64(0.016713611574402584)), (90, np.float64(0.011289744379892809)), (91, np.float64(0.006187781505208139)), (92, np.float64(0.02983353293287602)), (93, np.float64(0.11051449534864605)), (94, np.float64(0.06681913995852096)), (95, np.float64(0.03036833306864755)), (96, np.float64(0.008063580879311015)), (97, np.float64(0.005039922963433534)), (98, np.float64(0.03363884039119508)), (99, np.float64(0.09450721608337745)), (100, np.float64(0.028275223439778674)), (101, np.float64(0.022679866758930634)), (102, np.float64(0.07349842203494579)), (103, np.float64(0.013203857662182137)), (104, np.float64(0.04948104648115502)), (105, np.float64(0.03525528990536632)), (106, np.float64(0.06597283225705694)), (107, np.float64(0.041698905227924986)), (108, np.float64(0.017687533016226005)), (109, np.float64(0.014222304220985672)), (110, np.float64(0.10208034212089448)), (111, np.float64(0.018948278288438942)), (112, np.float64(0.023879432459413354)), (113, np.float64(0.01748603590641812)), (114, np.float64(0.037517021086328387)), (115, np.float64(0.008515691982838046)), (116, np.float64(0.008390932473919517)), (117, np.float64(0.012349574198329834)), (118, np.float64(0.0331383307844249)), (119, np.float64(0.041894695943796606)), (120, np.float64(0.035516826380430265)), (121, np.float64(0.034753433364707695)), (122, np.float64(0.026836131931970826)), (123, np.float64(0.0504851980313009)), (124, np.float64(0.023197550749353403)), (125, np.float64(0.02356839741638534)), (126, np.float64(0.020306888529361883)), (127, np.float64(0.06425833934559347)), (128, np.float64(0.015765769100251563)), (129, np.float64(0.0182764199724667)), (130, np.float64(0.06526700262038625)), (131, np.float64(0.03139148963464994)), (132, np.float64(0.029912535860838634)), (133, np.float64(0.0566455839246285)), (134, np.float64(0.009152869136901096)), (135, np.float64(0.015511046687098826)), (136, np.float64(0.012018754480734401)), (137, np.float64(0.03803433532177993)), (138, np.float64(0.03248970135513507)), (139, np.float64(0.005549287922437786)), (140, np.float64(0.13872547649937927)), (141, np.float64(0.04500357809071763)), (142, np.float64(0.03472846716361832)), (143, np.float64(0.03433389429768499)), (144, np.float64(0.04523428624901922)), (145, np.float64(0.030570627260268886)), (146, np.float64(0.05482465722859542)), (147, np.float64(0.04546424552694543)), (148, np.float64(0.038543806029375766)), (149, np.float64(0.0587821517371153)), (150, np.float64(0.029333443833405852)), (151, np.float64(0.03818861271360599)), (152, np.float64(0.028209271843147147)), (153, np.float64(0.04348664795988342)), (154, np.float64(0.014272841386837945)), (155, np.float64(0.09789251941286586)), (156, np.float64(0.06385301913657015)), (157, np.float64(0.00846884333918211)), (158, np.float64(0.028745490704369714)), (159, np.float64(0.030521692600790032)), (160, np.float64(0.04646449194647912)), (161, np.float64(0.0491614757482658)), (162, np.float64(0.020449348655878732)), (163, np.float64(0.0)), (164, np.float64(0.021960104331722234)), (165, np.float64(0.01474644671280547)), (166, np.float64(0.018451385544763665)), (167, np.float64(0.004119895935137449)), (168, np.float64(0.015862658734012873)), (169, np.float64(0.018433492055951593)), (170, np.float64(0.05954228576073754)), (171, np.float64(0.04732172732383213)), (172, np.float64(0.0261588285868348)), (173, np.float64(0.024930392962004687)), (174, np.float64(0.018890688403707584)), (175, np.float64(0.007628998787738299)), (176, np.float64(0.01795334470410786)), (177, np.float64(0.01807508760033088)), (178, np.float64(0.038767056073446216)), (179, np.float64(0.01981627979142754)), (180, np.float64(0.037624978994859094)), (181, np.float64(0.06461516805436215)), (182, np.float64(0.06383642291760906)), (183, np.float64(0.05545632835743933)), (184, np.float64(0.005953358250263396)), (185, np.float64(0.04473821954241254)), (186, np.float64(0.02158156414779417)), (187, np.float64(0.061444448361435276)), (188, np.float64(0.005440937146766407)), (189, np.float64(0.019783523250180898)), (190, np.float64(0.03485434039913852)), (191, np.float64(0.024738873106985318)), (192, np.float64(0.02030686530956434)), (193, np.float64(0.037201651659514744)), (194, np.float64(0.07109806201038946)), (195, np.float64(0.020259977053346014)), (196, np.float64(0.020667092827786046)), (197, np.float64(0.04727559504268644)), (198, np.float64(0.023467755059136248)), (199, np.float64(0.14583900526929694)), (200, np.float64(0.006400877083604575)), (201, np.float64(0.015636825276973527)), (202, np.float64(0.05333013530418664)), (203, np.float64(0.042899468796914544)), (204, np.float64(0.005325915155000046)), (205, np.float64(0.02019739382256585)), (206, np.float64(0.018353666222838787)), (207, np.float64(0.05391439789006997)), (208, np.float64(0.0)), (209, np.float64(0.02422439874305072)), (210, np.float64(0.04424287147152669)), (211, np.float64(0.035778063675656065)), (212, np.float64(0.007750153307163271)), (213, np.float64(0.006970284594482601)), (214, np.float64(0.03511700021473682)), (215, np.float64(0.02818122892271948)), (216, np.float64(0.007248696886782165)), (217, np.float64(0.06749649721522073)), (218, np.float64(0.014790489603364302)), (219, np.float64(0.04651259747495156)), (220, np.float64(0.058260387307396154)), (221, np.float64(0.010311717206828865)), (222, np.float64(0.14104075634065708)), (223, np.float64(0.02195586929245849)), (224, np.float64(0.01877035768662431)), (225, np.float64(0.024758639194575043)), (226, np.float64(0.023301856563300534)), (227, np.float64(0.04248930401486605)), (228, np.float64(0.06490366998096678)), (229, np.float64(0.01607743687204868)), (230, np.float64(0.017435914053949893)), (231, np.float64(0.009285504824647645)), (232, np.float64(0.03611349809884566)), (233, np.float64(0.03265612563814855)), (234, np.float64(0.0)), (235, np.float64(0.03064512821628719)), (236, np.float64(0.04971536205829847)), (237, np.float64(0.01715661171502138)), (238, np.float64(0.1431845310681621)), (239, np.float64(0.03437736307471723)), (240, np.float64(0.0067997506183601385)), (241, np.float64(0.0641276067846404)), (242, np.float64(0.013364218420001593)), (243, np.float64(0.013576483063255913)), (244, np.float64(0.014053389268118192)), (245, np.float64(0.050221542738814115)), (246, np.float64(0.016009131451678794)), (247, np.float64(0.006644099918154236)), (248, np.float64(0.0444856624224388)), (249, np.float64(0.031452120548094584)), (250, np.float64(0.007057095988623878)), (251, np.float64(0.019484059223467888)), (252, np.float64(0.02531286376533602)), (253, np.float64(0.012267375773244433)), (254, np.float64(0.01659520605243451)), (255, np.float64(0.016690744749321487)), (256, np.float64(0.03674765778544599)), (257, np.float64(0.01845203108563928)), (258, np.float64(0.04878264040775582)), (259, np.float64(0.03534429616824017)), (260, np.float64(0.019315297559081603)), (261, np.float64(0.007570238554756721)), (262, np.float64(0.04954645767988043)), (263, np.float64(0.04069645815874422)), (264, np.float64(0.03939655067474056)), (265, np.float64(0.020652669243036013)), (266, np.float64(0.0601047713962351)), (267, np.float64(0.016560205980653307)), (268, np.float64(0.01364395171207785)), (269, np.float64(0.025008093822581096)), (270, np.float64(0.006228886906257864)), (271, np.float64(0.048214044501657824)), (272, np.float64(0.034860294078615975)), (273, np.float64(0.03895967391702394)), (274, np.float64(0.023883583547259647)), (275, np.float64(0.029853338055402287)), (276, np.float64(0.06743770163966281)), (277, np.float64(0.09903706295008144)), (278, np.float64(0.02621545609134898)), (279, np.float64(0.0044879635646916305)), (280, np.float64(0.03770903796914449)), (281, np.float64(0.015669048828119453)), (282, np.float64(0.05990065036198629)), (283, np.float64(0.09713958713601994)), (284, np.float64(0.03411332155185026)), (285, np.float64(0.03286031047975567)), (286, np.float64(0.057750785275621365)), (287, np.float64(0.044214513446252206)), (288, np.float64(0.007698315413179377)), (289, np.float64(0.009178537107353162)), (290, np.float64(0.056937576000511705)), (291, np.float64(0.018427333796725693)), (292, np.float64(0.06618760208743399)), (293, np.float64(0.025211753522352262)), (294, np.float64(0.035019348572815606)), (295, np.float64(0.0114217372710396)), (296, np.float64(0.05679086078271203)), (297, np.float64(0.02466869615779167)), (298, np.float64(0.11434011994191767)), (299, np.float64(0.03701848089304639)), (300, np.float64(0.0571933234213637)), (301, np.float64(0.04144638624498896)), (302, np.float64(0.015470528984877843)), (303, np.float64(0.010002891046785638)), (304, np.float64(0.024018158481231643)), (305, np.float64(0.011585267018110633)), (306, np.float64(0.05560329947760008)), (307, np.float64(0.0)), (308, np.float64(0.027402665857868)), (309, np.float64(0.007546333449375323)), (310, np.float64(0.02164653959692018)), (311, np.float64(0.04249715535678533)), (312, np.float64(0.027861185600613656)), (313, np.float64(0.037225775392757565)), (314, np.float64(0.03255058440308591)), (315, np.float64(0.05404384023518077)), (316, np.float64(0.017944731953041027)), (317, np.float64(0.02219687739583644)), (318, np.float64(0.01379766277664248)), (319, np.float64(0.11875911577331023)), (320, np.float64(0.027454975516051333)), (321, np.float64(0.05446589015133296)), (322, np.float64(0.058090160930503516)), (323, np.float64(0.04791027457830403)), (324, np.float64(0.03548005084061521)), (325, np.float64(0.008403760512279312)), (326, np.float64(0.04959020111333488)), (327, np.float64(0.007423699223506326)), (328, np.float64(0.020744002949542224)), (329, np.float64(0.03789598936045503)), (330, np.float64(0.043097184942974695)), (331, np.float64(0.016533553670287263)), (332, np.float64(0.024621334367855248)), (333, np.float64(0.07144234916061526)), (334, np.float64(0.016283237057076093)), (335, np.float64(0.03935056880813747)), (336, np.float64(0.0705446360714215)), (337, np.float64(0.013318852895658474)), (338, np.float64(0.02408300183756107)), (339, np.float64(0.04103792476837642)), (340, np.float64(0.05228068118282507)), (341, np.float64(0.04747886526795133)), (342, np.float64(0.015514395811464826)), (343, np.float64(0.027442625784841683)), (344, np.float64(0.006747565037361946)), (345, np.float64(0.033218361822287344)), (346, np.float64(0.05684059613729351)), (347, np.float64(0.005488957183312035)), (348, np.float64(0.0)), (349, np.float64(0.02052836866353714)), (350, np.float64(0.011577105719256403)), (351, np.float64(0.04162540217365595)), (352, np.float64(0.037651863874372596)), (353, np.float64(0.050573356276458155)), (354, np.float64(0.0358020301541473)), (355, np.float64(0.012966818958422794)), (356, np.float64(0.028515037429142305)), (357, np.float64(0.02586428680113713)), (358, np.float64(0.024314001984313847)), (359, np.float64(0.02189497682912781)), (360, np.float64(0.03568911178344869)), (361, np.float64(0.03580026528832147)), (362, np.float64(0.08270303277302701)), (363, np.float64(0.0601866730639279)), (364, np.float64(0.020792747880812354)), (365, np.float64(0.00509524340829843)), (366, np.float64(0.03738432916055398)), (367, np.float64(0.02409115929115046)), (368, np.float64(0.01660472989314469)), (369, np.float64(0.023412869130585715)), (370, np.float64(0.019961404221540826)), (371, np.float64(0.0)), (372, np.float64(0.04013171752336963)), (373, np.float64(0.03473869438261961)), (374, np.float64(0.027492774298668504)), (375, np.float64(0.03439397657218467)), (376, np.float64(0.02836858785120433)), (377, np.float64(0.007516049414886069)), (378, np.float64(0.04930402229150979)), (379, np.float64(0.03841631809186476)), (380, np.float64(0.02220357307455103)), (381, np.float64(0.031292597429089845)), (382, np.float64(0.03420063156098458)), (383, np.float64(0.019104478725365463)), (384, np.float64(0.040101072067173706)), (385, np.float64(0.011100675176320504)), (386, np.float64(0.0255726905196802)), (387, np.float64(0.041986090607673845)), (388, np.float64(0.030872932243850612)), (389, np.float64(0.06489700904642269)), (390, np.float64(0.02820532576284404)), (391, np.float64(0.028495277584950754)), (392, np.float64(0.021587430300994245)), (393, np.float64(0.0)), (394, np.float64(0.005605919011749281)), (395, np.float64(0.005000346496738084)), (396, np.float64(0.06479113223221333)), (397, np.float64(0.0077447087470021245)), (398, np.float64(0.034487429655996465)), (399, np.float64(0.023647504924836575)), (400, np.float64(0.07177353632486788)), (401, np.float64(0.010801092809112258)), (402, np.float64(0.10557411115120896)), (403, np.float64(0.020358919772951685)), (404, np.float64(0.05547408692118062)), (405, np.float64(0.006471979119390525)), (406, np.float64(0.059106792834392574)), (407, np.float64(0.029659273363234914)), (408, np.float64(0.02222920206957296)), (409, np.float64(0.03703980896680329)), (410, np.float64(0.07521828400936004)), (411, np.float64(0.014426492767202108)), (412, np.float64(0.015885194961221795)), (413, np.float64(0.006564665679274007)), (414, np.float64(0.004493159173288799)), (415, np.float64(0.055672084439377656)), (416, np.float64(0.02071988155514866)), (417, np.float64(0.006625078080054945)), (418, np.float64(0.04304921008024594)), (419, np.float64(0.008867755682465095)), (420, np.float64(0.02994369172403815)), (421, np.float64(0.015615062989101033)), (422, np.float64(0.01546191976639874)), (423, np.float64(0.021315420195686774)), (424, np.float64(0.02543250207752422)), (425, np.float64(0.021115892665832033)), (426, np.float64(0.06739307399324114)), (427, np.float64(0.022555895657730442)), (428, np.float64(0.009890834331663701)), (429, np.float64(0.027353957835589582)), (430, np.float64(0.007936679072247741)), (431, np.float64(0.03464293036554677)), (432, np.float64(0.025238363346053866)), (433, np.float64(0.06119847095276827)), (434, np.float64(0.011027052310350696)), (435, np.float64(0.044741911933408936)), (436, np.float64(0.017487314173691242)), (437, np.float64(0.04445289606066665)), (438, np.float64(0.0349783098376338)), (439, np.float64(0.03249158668757568)), (440, np.float64(0.016197908246748955)), (441, np.float64(0.027008149195982586)), (442, np.float64(0.02571936972450318)), (443, np.float64(0.03126736887329164)), (444, np.float64(0.01606168124889281)), (445, np.float64(0.028755876293594038)), (446, np.float64(0.015597723507330801)), (447, np.float64(0.03178598302572516)), (448, np.float64(0.04197240356001806)), (449, np.float64(0.12576768782080652)), (450, np.float64(0.013792459904720427)), (451, np.float64(0.04550222389968729)), (452, np.float64(0.06216786613732672)), (453, np.float64(0.017205235685966113)), (454, np.float64(0.04921420134681925)), (455, np.float64(0.05221440604940881)), (456, np.float64(0.08248315279909153)), (457, np.float64(0.056402732434406765)), (458, np.float64(0.041804307944900976)), (459, np.float64(0.05792708307544327)), (460, np.float64(0.038772760115381874)), (461, np.float64(0.01122413050648021)), (462, np.float64(0.011144322763815839)), (463, np.float64(0.028785832379942023)), (464, np.float64(0.008036040282417434)), (465, np.float64(0.027390650967237893)), (466, np.float64(0.006179576721963195)), (467, np.float64(0.0722960977692578)), (468, np.float64(0.07549885654565658)), (469, np.float64(0.02690222714878593)), (470, np.float64(0.059284279120519534)), (471, np.float64(0.015171818309203455)), (472, np.float64(0.0)), (473, np.float64(0.011266264406311042)), (474, np.float64(0.024680760881317865)), (475, np.float64(0.047102944047358805)), (476, np.float64(0.03491060800237342)), (477, np.float64(0.03089745453878735)), (478, np.float64(0.0190734502684851)), (479, np.float64(0.0437094689091739)), (480, np.float64(0.03647164863506046)), (481, np.float64(0.0149058375186548)), (482, np.float64(0.006661321780270998)), (483, np.float64(0.13716752728228368)), (484, np.float64(0.006109553065581977)), (485, np.float64(0.021029471556028793)), (486, np.float64(0.040886071340267824)), (487, np.float64(0.005175917173171854)), (488, np.float64(0.028663962486211034)), (489, np.float64(0.041079491704762355)), (490, np.float64(0.00488227915520267)), (491, np.float64(0.06397657903133665)), (492, np.float64(0.04287513300184518)), (493, np.float64(0.03770942014453129)), (494, np.float64(0.055066577017257395)), (495, np.float64(0.01650301702092414)), (496, np.float64(0.0)), (497, np.float64(0.02843210749319903)), (498, np.float64(0.04282658019539602)), (499, np.float64(0.04471795316451842)), (500, np.float64(0.01686445087373314)), (501, np.float64(0.016338193322456174)), (502, np.float64(0.01415002214771194)), (503, np.float64(0.010115644358571773)), (504, np.float64(0.006400662239562668)), (505, np.float64(0.05435206123381342)), (506, np.float64(0.017491250757360886)), (507, np.float64(0.01522333155056016)), (508, np.float64(0.0)), (509, np.float64(0.05278867739019373)), (510, np.float64(0.011809568734424127)), (511, np.float64(0.012570313196090584)), (512, np.float64(0.04331978597654469)), (513, np.float64(0.03970230149628078)), (514, np.float64(0.035534791170039985)), (515, np.float64(0.17645410636565156)), (516, np.float64(0.02191028100430126)), (517, np.float64(0.004321989419046958)), (518, np.float64(0.04774098063230935)), (519, np.float64(0.021778393959192323)), (520, np.float64(0.021466910222074274)), (521, np.float64(0.03406490816329854)), (522, np.float64(0.015027146910627825)), (523, np.float64(0.005714003259383251)), (524, np.float64(0.04654912610044729)), (525, np.float64(0.04503119811612448)), (526, np.float64(0.06263367449572085)), (527, np.float64(0.04068329288862718)), (528, np.float64(0.012275741344379589)), (529, np.float64(0.0)), (530, np.float64(0.007744258687757601)), (531, np.float64(0.01790945444163166)), (532, np.float64(0.039836193382235596)), (533, np.float64(0.034405194009746204)), (534, np.float64(0.03841891750737367)), (535, np.float64(0.08005569147823444)), (536, np.float64(0.004962389596213334)), (537, np.float64(0.025574234001251563)), (538, np.float64(0.030728787758085473)), (539, np.float64(0.028248627324503048)), (540, np.float64(0.040786125315368675)), (541, np.float64(0.021447651728471642)), (542, np.float64(0.024379569791941218)), (543, np.float64(0.03356315004987031)), (544, np.float64(0.04932429899781936)), (545, np.float64(0.03333598003697397)), (546, np.float64(0.0165024971727238)), (547, np.float64(0.046248183895848234)), (548, np.float64(0.013548345017952785)), (549, np.float64(0.0656840074073912)), (550, np.float64(0.04510997133703144)), (551, np.float64(0.005286788147514243)), (552, np.float64(0.3088982453039397)), (553, np.float64(0.06702597717676156)), (554, np.float64(0.018264392836142968)), (555, np.float64(0.017865780895023102)), (556, np.float64(0.02003832733775241)), (557, np.float64(0.011599503175180628)), (558, np.float64(0.1406453946119288)), (559, np.float64(0.0206111446899293)), (560, np.float64(0.05240713114309624)), (561, np.float64(0.048694761129683246)), (562, np.float64(0.030106240316505453)), (563, np.float64(0.0)), (564, np.float64(0.032032572323613145)), (565, np.float64(0.07326346273053538)), (566, np.float64(0.07693143292513405)), (567, np.float64(0.006578803233731635)), (568, np.float64(0.008954154929363132)), (569, np.float64(0.010924228337511301)), (570, np.float64(0.02662628120915355)), (571, np.float64(0.03528506604823957)), (572, np.float64(0.06561141718923368)), (573, np.float64(0.05483308825288664)), (574, np.float64(0.035891317920077104)), (575, np.float64(0.027716810108728094)), (576, np.float64(0.11062252224468037)), (577, np.float64(0.013449887253239281)), (578, np.float64(0.02435435060162649)), (579, np.float64(0.02302662437959304)), (580, np.float64(0.02750388135781757)), (581, np.float64(0.0487814893061807)), (582, np.float64(0.013429040059442853)), (583, np.float64(0.02117677066221102)), (584, np.float64(0.013072844318564201)), (585, np.float64(0.03232604268084764)), (586, np.float64(0.013652717583142942)), (587, np.float64(0.011331494907977802)), (588, np.float64(0.03863802518618127)), (589, np.float64(0.015746354683454717)), (590, np.float64(0.04371480675385132)), (591, np.float64(0.020992336779908367)), (592, np.float64(0.006076817289978518)), (593, np.float64(0.023538250953194)), (594, np.float64(0.02039401030934481)), (595, np.float64(0.0516305303607313)), (596, np.float64(0.0)), (597, np.float64(0.027482006197080605)), (598, np.float64(0.06093071005932466)), (599, np.float64(0.02209740013016853)), (600, np.float64(0.014776081122075893)), (601, np.float64(0.015082720813857284)), (602, np.float64(0.0)), (603, np.float64(0.008936677944040442)), (604, np.float64(0.0)), (605, np.float64(0.0)), (606, np.float64(0.009730241562275598)), (607, np.float64(0.024232177825989187)), (608, np.float64(0.012432439582596934)), (609, np.float64(0.02131184568963531)), (610, np.float64(0.04935287593943409)), (611, np.float64(0.023925621772947506)), (612, np.float64(0.020259226848622035)), (613, np.float64(0.028910050012368616)), (614, np.float64(0.07174543141629929)), (615, np.float64(0.010290922782570197)), (616, np.float64(0.018021841210593442)), (617, np.float64(0.0)), (618, np.float64(0.02904309429764408)), (619, np.float64(0.031082645426782102)), (620, np.float64(0.02883486872261709)), (621, np.float64(0.04314651700623914)), (622, np.float64(0.006549610163842526)), (623, np.float64(0.017267492523449078)), (624, np.float64(0.04483941609129511)), (625, np.float64(0.04992390398907774)), (626, np.float64(0.04536903971385199)), (627, np.float64(0.027193979499358485)), (628, np.float64(0.30310224460211765)), (629, np.float64(0.028772520334698307)), (630, np.float64(0.04168258130949352)), (631, np.float64(0.016666710353228514)), (632, np.float64(0.0367165196842139)), (633, np.float64(0.05212687353419058)), (634, np.float64(0.022319490800796947)), (635, np.float64(0.029160032904921855)), (636, np.float64(0.034464078729699636)), (637, np.float64(0.023390965583571805)), (638, np.float64(0.019595329996289348)), (639, np.float64(0.016351158486672793)), (640, np.float64(0.026079487954939837)), (641, np.float64(0.04167774193874073)), (642, np.float64(0.014681741920008581)), (643, np.float64(0.03110523892984815)), (644, np.float64(0.0)), (645, np.float64(0.02209740013016853)), (646, np.float64(0.009271801320476194)), (647, np.float64(0.0051283803013664085)), (648, np.float64(0.08556252329070356)), (649, np.float64(0.031638321015621695)), (650, np.float64(0.039041225581183045)), (651, np.float64(0.0726553935216367)), (652, np.float64(0.025238866958375326)), (653, np.float64(0.033142611399043134)), (654, np.float64(0.05257706522014042)), (655, np.float64(0.007660289840563042)), (656, np.float64(0.033222950482764524)), (657, np.float64(0.11027973417948717)), (658, np.float64(0.04151319624121538)), (659, np.float64(0.01822128938693406)), (660, np.float64(0.025820379938654527)), (661, np.float64(0.019393508107837413)), (662, np.float64(0.030919102064612736)), (663, np.float64(0.03424062876827562)), (664, np.float64(0.052228200415716866)), (665, np.float64(0.08238556039086259)), (666, np.float64(0.01867684616945037)), (667, np.float64(0.0062257901329976)), (668, np.float64(0.016316938003137608)), (669, np.float64(0.0)), (670, np.float64(0.023055198328677928)), (671, np.float64(0.01824797302674598)), (672, np.float64(0.015188093870443488)), (673, np.float64(0.014940775272474286)), (674, np.float64(0.04548101097858487)), (675, np.float64(0.01657457609818426)), (676, np.float64(0.021556487657327265)), (677, np.float64(0.012200728581343863)), (678, np.float64(0.0)), (679, np.float64(0.04017014552346225)), (680, np.float64(0.01673366599938474)), (681, np.float64(0.02810842631534117)), (682, np.float64(0.008686039036161042)), (683, np.float64(0.03428774314848372)), (684, np.float64(0.0)), (685, np.float64(0.022700267722142845)), (686, np.float64(0.03663705529233632)), (687, np.float64(0.03722607018330647)), (688, np.float64(0.2342228163702276)), (689, np.float64(0.05115894959761978)), (690, np.float64(0.011471525445371483)), (691, np.float64(0.035526679184098464)), (692, np.float64(0.0383414106024477)), (693, np.float64(0.0)), (694, np.float64(0.0)), (695, np.float64(0.0)), (696, np.float64(0.0)), (697, np.float64(0.11555055452959187)), (698, np.float64(0.018581283102535248)), (699, np.float64(0.037025904193183946)), (700, np.float64(0.04120386044083474)), (701, np.float64(0.042591020253390344)), (702, np.float64(0.01629778340250706)), (703, np.float64(0.02780215045108031)), (704, np.float64(0.016385181858902878)), (705, np.float64(0.03137759216041566)), (706, np.float64(0.02553437181805764)), (707, np.float64(0.03729677236605717)), (708, np.float64(0.0)), (709, np.float64(0.004695929162167765)), (710, np.float64(0.025608563884902)), (711, np.float64(0.04898796071701244)), (712, np.float64(0.03510383812420351)), (713, np.float64(0.01603407643460282)), (714, np.float64(0.03164189176684809)), (715, np.float64(0.04941087006865226)), (716, np.float64(0.015466921814420595)), (717, np.float64(0.01941942611736137)), (718, np.float64(0.026138477214595713)), (719, np.float64(0.0761626166218564)), (720, np.float64(0.015003155578738044)), (721, np.float64(0.014274829661807613)), (722, np.float64(0.022702896437720225)), (723, np.float64(0.014326687508712927)), (724, np.float64(0.03448619674254147)), (725, np.float64(0.012642657798240874)), (726, np.float64(0.12740347533175667)), (727, np.float64(0.06145457359551533)), (728, np.float64(0.04743300178137558)), (729, np.float64(0.0762637400102232)), (730, np.float64(0.014903894959849597)), (731, np.float64(0.010079721686706771)), (732, np.float64(0.03255530097904494)), (733, np.float64(0.011967743867946063)), (734, np.float64(0.03397969107470741)), (735, np.float64(0.0)), (736, np.float64(0.0)), (737, np.float64(0.02775906397497755)), (738, np.float64(0.005765182807631836)), (739, np.float64(0.00718013031151755)), (740, np.float64(0.01916779910592314)), (741, np.float64(0.03959510343453774)), (742, np.float64(0.0)), (743, np.float64(0.005715488082822486)), (744, np.float64(0.026993462326188024)), (745, np.float64(0.012269178517979457)), (746, np.float64(0.03066890659313398)), (747, np.float64(0.044461149621532)), (748, np.float64(0.011167808188296581)), (749, np.float64(0.04497109700171012)), (750, np.float64(0.006459999179553717)), (751, np.float64(0.01420859287704257)), (752, np.float64(0.040149130486465394)), (753, np.float64(0.0)), (754, np.float64(0.0)), (755, np.float64(0.031266966340448586)), (756, np.float64(0.019679694105273322)), (757, np.float64(0.0)), (758, np.float64(0.02209740013016853)), (759, np.float64(0.04404953628598009)), (760, np.float64(0.0)), (761, np.float64(0.01643423999407804)), (762, np.float64(0.0071824174752132645)), (763, np.float64(0.021496123316908585)), (764, np.float64(0.030805560760097533)), (765, np.float64(0.013335774409736044)), (766, np.float64(0.02410550318657937)), (767, np.float64(0.06570236827077477)), (768, np.float64(0.03802969051776897)), (769, np.float64(0.053992789954740314)), (770, np.float64(0.014214858325969491)), (771, np.float64(0.01748205305968422)), (772, np.float64(0.011328524435879466)), (773, np.float64(0.022836758782975277)), (774, np.float64(0.010300104573527653)), (775, np.float64(0.03024065821389932)), (776, np.float64(0.0)), (777, np.float64(0.020817970468724464)), (778, np.float64(0.011999461098996914)), (779, np.float64(0.016698038272419356)), (780, np.float64(0.025499684381709506)), (781, np.float64(0.01674826764018355)), (782, np.float64(0.009608935015426975)), (783, np.float64(0.016804451537100744)), (784, np.float64(0.0661414005972949)), (785, np.float64(0.010775180380514776)), (786, np.float64(0.03720670214694168)), (787, np.float64(0.02723028102907418)), (788, np.float64(0.043459576994555445)), (789, np.float64(0.04756963303489226)), (790, np.float64(0.14154405545597354)), (791, np.float64(0.03986632047825646)), (792, np.float64(0.0)), (793, np.float64(0.023742668948607753)), (794, np.float64(0.006370751752564015)), (795, np.float64(0.05966450745227452)), (796, np.float64(0.03429897237146459)), (797, np.float64(0.0)), (798, np.float64(0.020577337319504105)), (799, np.float64(0.0)), (800, np.float64(0.05763026760905474)), (801, np.float64(0.08461817788425531)), (802, np.float64(0.0356390533602266)), (803, np.float64(0.01806255404523401)), (804, np.float64(0.05587620866088406)), (805, np.float64(0.06195649095050476)), (806, np.float64(0.0)), (807, np.float64(0.08743864271207187)), (808, np.float64(0.05277122926312778)), (809, np.float64(0.03737720593770121)), (810, np.float64(0.0)), (811, np.float64(0.0)), (812, np.float64(0.03519560521795539)), (813, np.float64(0.0)), (814, np.float64(0.014222761019867906)), (815, np.float64(0.008017984898232512)), (816, np.float64(0.0)), (817, np.float64(0.004398043221370672)), (818, np.float64(0.037071645399078465)), (819, np.float64(0.057395328491847766)), (820, np.float64(0.01616961499848834)), (821, np.float64(0.01947502829164064)), (822, np.float64(0.0704246254333381)), (823, np.float64(0.0)), (824, np.float64(0.012289892384014183)), (825, np.float64(0.04289079100031794)), (826, np.float64(0.18463695852338333)), (827, np.float64(0.01611334408862561)), (828, np.float64(0.06268264549394742)), (829, np.float64(0.01624967481461498)), (830, np.float64(0.018157274998252045)), (831, np.float64(0.004470716790779182)), (832, np.float64(0.004258293151872195)), (833, np.float64(0.0)), (834, np.float64(0.020366820387537656)), (835, np.float64(0.0)), (836, np.float64(0.032891918090692994)), (837, np.float64(0.0864069589216635)), (838, np.float64(0.020980958126386028)), (839, np.float64(0.0)), (840, np.float64(0.010651259510781361)), (841, np.float64(0.054489003512507204)), (842, np.float64(0.028807600654905584)), (843, np.float64(0.016115159230464825)), (844, np.float64(0.019937565023503523)), (845, np.float64(0.04465344688559168)), (846, np.float64(0.022316738755345462)), (847, np.float64(0.019122324357749403)), (848, np.float64(0.015094745198558837)), (849, np.float64(0.05542850167373961)), (850, np.float64(0.016768320564219896)), (851, np.float64(0.049549668422121045)), (852, np.float64(0.0795448684135678)), (853, np.float64(0.009353253583583906)), (854, np.float64(0.04268056462109323)), (855, np.float64(0.02134912801029613)), (856, np.float64(0.015352775671865899)), (857, np.float64(0.005446707729140491)), (858, np.float64(0.04129909628777835)), (859, np.float64(0.02139172687701531)), (860, np.float64(0.005687756051251628)), (861, np.float64(0.024725740724279258)), (862, np.float64(0.021167583974060846)), (863, np.float64(0.036549804926199594)), (864, np.float64(0.012976980261762097)), (865, np.float64(0.02359561964906189)), (866, np.float64(0.060666059117542304)), (867, np.float64(0.0285369579978648)), (868, np.float64(0.03967285109799641)), (869, np.float64(0.02703844125681223)), (870, np.float64(0.04903827306547383)), (871, np.float64(0.005626464575349952)), (872, np.float64(0.04274596699179262)), (873, np.float64(0.047514141576930666)), (874, np.float64(0.026872149250368557)), (875, np.float64(0.0)), (876, np.float64(0.0)), (877, np.float64(0.03131604924593396)), (878, np.float64(0.014363604641596042)), (879, np.float64(0.016275428452415502)), (880, np.float64(0.0194559676754284)), (881, np.float64(0.017442669011823727)), (882, np.float64(0.04695306430221582)), (883, np.float64(0.020418148708769547)), (884, np.float64(0.020496951952995453)), (885, np.float64(0.0)), (886, np.float64(0.025002782024818326)), (887, np.float64(0.019126695728151448)), (888, np.float64(0.021636268405181097)), (889, np.float64(0.0)), (890, np.float64(0.00944512833877452)), (891, np.float64(0.015014331046351453)), (892, np.float64(0.03845667368416633)), (893, np.float64(0.0)), (894, np.float64(0.01573551669365997)), (895, np.float64(0.0)), (896, np.float64(0.006939475724038245)), (897, np.float64(0.038004978095615885)), (898, np.float64(0.11113003433047455)), (899, np.float64(0.0)), (900, np.float64(0.021226710092777244)), (901, np.float64(0.012141075902683283)), (902, np.float64(0.06309903413701398)), (903, np.float64(0.010085762753038798)), (904, np.float64(0.0207022136837286)), (905, np.float64(0.021505083798918842)), (906, np.float64(0.009688595269555105)), (907, np.float64(0.013887700098898765)), (908, np.float64(0.007875409102491737)), (909, np.float64(0.010559688168978865)), (910, np.float64(0.03578567525599291)), (911, np.float64(0.023623964170399976)), (912, np.float64(0.06472915973827009)), (913, np.float64(0.015087913078592571)), (914, np.float64(0.0)), (915, np.float64(0.0)), (916, np.float64(0.014521563228150316)), (917, np.float64(0.0)), (918, np.float64(0.005768755297835245)), (919, np.float64(0.0)), (920, np.float64(0.05461574263133134)), (921, np.float64(0.0)), (922, np.float64(0.02160064848145867)), (923, np.float64(0.06368983732683009)), (924, np.float64(0.028823680341871893)), (925, np.float64(0.03820674024733339)), (926, np.float64(0.03333259924776495)), (927, np.float64(0.023716942608428868)), (928, np.float64(0.019210788050920115)), (929, np.float64(0.010587252823430126)), (930, np.float64(0.029248784069586274)), (931, np.float64(0.004269774686465794)), (932, np.float64(0.024152177319756482)), (933, np.float64(0.03346810447483762)), (934, np.float64(0.0)), (935, np.float64(0.04520872575496763)), (936, np.float64(0.023302847715901742)), (937, np.float64(0.039897407084166676)), (938, np.float64(0.012809760002035493)), (939, np.float64(0.0075650320954535645)), (940, np.float64(0.037805860147006654)), (941, np.float64(0.027810591660223694)), (942, np.float64(0.01776040494692105)), (943, np.float64(0.03120764320639812)), (944, np.float64(0.006841381748594533)), (945, np.float64(0.013676381979237512)), (946, np.float64(0.016349677652334176)), (947, np.float64(0.016125383568495053)), (948, np.float64(0.0)), (949, np.float64(0.03834900751958018)), (950, np.float64(0.021093618557713516)), (951, np.float64(0.02483429337807917)), (952, np.float64(0.02593672865401565)), (953, np.float64(0.017944161289983347)), (954, np.float64(0.02919070308386095)), (955, np.float64(0.06293717429933238)), (956, np.float64(0.006672301969735983)), (957, np.float64(0.03180783155263837)), (958, np.float64(0.020817970468724464)), (959, np.float64(0.0058062912314474505)), (960, np.float64(0.006866827115471464)), (961, np.float64(0.04607374341132484)), (962, np.float64(0.032863537057843936)), (963, np.float64(0.01782347586515133)), (964, np.float64(0.0)), (965, np.float64(0.031734839134840535)), (966, np.float64(0.00977774385451249)), (967, np.float64(0.0351579048783646)), (968, np.float64(0.014152671367949716)), (969, np.float64(0.014650299135570264)), (970, np.float64(0.011805771250486779)), (971, np.float64(0.023648795147858302)), (972, np.float64(0.0072014415383634175)), (973, np.float64(0.06208751489728041)), (974, np.float64(0.010853128710252234)), (975, np.float64(0.0)), (976, np.float64(0.040714478408406855)), (977, np.float64(0.00918451548342428)), (978, np.float64(0.026083997635026144)), (979, np.float64(0.010719823134561813)), (980, np.float64(0.02712397416703488)), (981, np.float64(0.028281050087289195)), (982, np.float64(0.017600050227312113)), (983, np.float64(0.02105730469878626)), (984, np.float64(0.032001844173722774)), (985, np.float64(0.03532569888912604)), (986, np.float64(0.024318252247367757)), (987, np.float64(0.0)), (988, np.float64(0.0)), (989, np.float64(0.02996502853821669)), (990, np.float64(0.0065311558268946295)), (991, np.float64(0.0)), (992, np.float64(0.030418667189487193)), (993, np.float64(0.051431889948071824)), (994, np.float64(0.05330612733210526)), (995, np.float64(0.0)), (996, np.float64(0.0)), (997, np.float64(0.00787413608555898)), (998, np.float64(0.07186925740132347)), (999, np.float64(0.03622821604829493)), (1000, np.float64(0.031703748927376554)), (1001, np.float64(0.014096276137791986)), (1002, np.float64(0.01365991098955694)), (1003, np.float64(0.0)), (1004, np.float64(0.05941931870767764)), (1005, np.float64(0.0676326293512567)), (1006, np.float64(0.031280111964559626)), (1007, np.float64(0.028743730025158565)), (1008, np.float64(0.023278911800533285)), (1009, np.float64(0.016393263882799824)), (1010, np.float64(0.02742539728217652)), (1011, np.float64(0.0888695169450609)), (1012, np.float64(0.029901999290307103)), (1013, np.float64(0.0)), (1014, np.float64(0.01842206299823259)), (1015, np.float64(0.03312717562104876)), (1016, np.float64(0.014728586389676578)), (1017, np.float64(0.009905935289614948)), (1018, np.float64(0.032234437488281434)), (1019, np.float64(0.0)), (1020, np.float64(0.03293284479502907)), (1021, np.float64(0.014707918562859343)), (1022, np.float64(0.0)), (1023, np.float64(0.008447061420211689)), (1024, np.float64(0.005892690695790222)), (1025, np.float64(0.025025405447545862)), (1026, np.float64(0.025097099349742413)), (1027, np.float64(0.0178450522348228)), (1028, np.float64(0.0)), (1029, np.float64(0.0)), (1030, np.float64(0.04748509297323676)), (1031, np.float64(0.011992807746505454)), (1032, np.float64(0.04299138610456672)), (1033, np.float64(0.014713932410726806)), (1034, np.float64(0.0)), (1035, np.float64(0.018769610245792816)), (1036, np.float64(0.050001131797676554)), (1037, np.float64(0.026634406102854336)), (1038, np.float64(0.027966204785535458)), (1039, np.float64(0.01710480490118913)), (1040, np.float64(0.0)), (1041, np.float64(0.022827303062071057)), (1042, np.float64(0.018773282626607456)), (1043, np.float64(0.0)), (1044, np.float64(0.02160064848145867)), (1045, np.float64(0.017428967810895323)), (1046, np.float64(0.016362773407623075)), (1047, np.float64(0.01678314801892721)), (1048, np.float64(0.024757884293105055)), (1049, np.float64(0.015021648645594313)), (1050, np.float64(0.027076555846921965)), (1051, np.float64(0.04344832900416091)), (1052, np.float64(0.009193635100989566)), (1053, np.float64(0.03544318456481391)), (1054, np.float64(0.016248036614130917)), (1055, np.float64(0.011518004404561464)), (1056, np.float64(0.029725955838598432)), (1057, np.float64(0.0)), (1058, np.float64(0.023052303092845516)), (1059, np.float64(0.015159174839111653)), (1060, np.float64(0.0)), (1061, np.float64(0.038957507858161364)), (1062, np.float64(0.0)), (1063, np.float64(0.0060973996144178455)), (1064, np.float64(0.021582136894311543)), (1065, np.float64(0.0)), (1066, np.float64(0.016256007942503894)), (1067, np.float64(0.04991814639088004)), (1068, np.float64(0.04499918011557658)), (1069, np.float64(0.027291214669078735)), (1070, np.float64(0.018372904647282022)), (1071, np.float64(0.036981872567307075)), (1072, np.float64(0.02160064848145867)), (1073, np.float64(0.0250151777878809)), (1074, np.float64(0.0)), (1075, np.float64(0.01491497953684233)), (1076, np.float64(0.08284218972077362)), (1077, np.float64(0.016303272710562797)), (1078, np.float64(0.006758310249679871)), (1079, np.float64(0.005976264275473167)), (1080, np.float64(0.014108053296552734)), (1081, np.float64(0.016709483413407465)), (1082, np.float64(0.006584847018098449)), (1083, np.float64(0.0)), (1084, np.float64(0.011361423178952638)), (1085, np.float64(0.017982009962444024)), (1086, np.float64(0.018034642926676378)), (1087, np.float64(0.009818566953819635)), (1088, np.float64(0.0476678938047571)), (1089, np.float64(0.02371800206231954)), (1090, np.float64(0.041978395167191915)), (1091, np.float64(0.0)), (1092, np.float64(0.06210923984644896)), (1093, np.float64(0.042567098548549266)), (1094, np.float64(0.032957160346501035)), (1095, np.float64(0.0)), (1096, np.float64(0.0)), (1097, np.float64(0.027624373857098764)), (1098, np.float64(0.052073786699484176)), (1099, np.float64(0.0)), (1100, np.float64(0.028525907893225365)), (1101, np.float64(0.024239469046451977)), (1102, np.float64(0.04845046861756594)), (1103, np.float64(0.014956619742049435)), (1104, np.float64(0.07458102048967614)), (1105, np.float64(0.006559183501053339)), (1106, np.float64(0.0)), (1107, np.float64(0.0)), (1108, np.float64(0.0)), (1109, np.float64(0.012756571270204825)), (1110, np.float64(0.012592582438825418)), (1111, np.float64(0.0)), (1112, np.float64(0.0)), (1113, np.float64(0.031696885646245065)), (1114, np.float64(0.0)), (1115, np.float64(0.009414579780808348)), (1116, np.float64(0.0)), (1117, np.float64(0.0)), (1118, np.float64(0.041951658173965)), (1119, np.float64(0.0192264715209488)), (1120, np.float64(0.035509156285608426)), (1121, np.float64(0.0)), (1122, np.float64(0.016346317511578348)), (1123, np.float64(0.0)), (1124, np.float64(0.007164594675670128)), (1125, np.float64(0.02628110741683079)), (1126, np.float64(0.01296421631417478)), (1127, np.float64(0.015017997745553714)), (1128, np.float64(0.007038467394292112)), (1129, np.float64(0.03067631931795243)), (1130, np.float64(0.023945401067126854)), (1131, np.float64(0.03061498032261826)), (1132, np.float64(0.00839891079357886)), (1133, np.float64(0.0)), (1134, np.float64(0.03458895311269824)), (1135, np.float64(0.01947668509320692)), (1136, np.float64(0.038886819404134784)), (1137, np.float64(0.016475592946183504)), (1138, np.float64(0.014826083197889826)), (1139, np.float64(0.02160064848145867)), (1140, np.float64(0.01592452933489503)), (1141, np.float64(0.0)), (1142, np.float64(0.05427781556362523)), (1143, np.float64(0.012337216512425142)), (1144, np.float64(0.03260560659530805)), (1145, np.float64(0.07001022850422993)), (1146, np.float64(0.0)), (1147, np.float64(0.007965021816903842)), (1148, np.float64(0.0)), (1149, np.float64(0.01223956473741018)), (1150, np.float64(0.025004212217753174)), (1151, np.float64(0.055205254987748344)), (1152, np.float64(0.018933312304365665)), (1153, np.float64(0.060841623898787084)), (1154, np.float64(0.02179828456887506)), (1155, np.float64(0.0)), (1156, np.float64(0.0)), (1157, np.float64(0.0)), (1158, np.float64(0.08465501793820907)), (1159, np.float64(0.011742437530170978)), (1160, np.float64(0.02922582545046398)), (1161, np.float64(0.025673495544383307)), (1162, np.float64(0.0046682993458329455)), (1163, np.float64(0.018860110341980676)), (1164, np.float64(0.019440769737368305)), (1165, np.float64(0.011949540359314125)), (1166, np.float64(0.015433175201009952)), (1167, np.float64(0.0)), (1168, np.float64(0.021873169762336213)), (1169, np.float64(0.015541250571822231)), (1170, np.float64(0.02385697727632716)), (1171, np.float64(0.0)), (1172, np.float64(0.05770566055999352)), (1173, np.float64(0.06298544160402408)), (1174, np.float64(0.009081369273711485)), (1175, np.float64(0.0066321318452388055)), (1176, np.float64(0.0)), (1177, np.float64(0.0)), (1178, np.float64(0.01657457609818426)), (1179, np.float64(0.030183399851373506)), (1180, np.float64(0.033706673571577)), (1181, np.float64(0.029858137150565213)), (1182, np.float64(0.01811821070449515)), (1183, np.float64(0.0)), (1184, np.float64(0.017406363712390318)), (1185, np.float64(0.0)), (1186, np.float64(0.020270655377745847)), (1187, np.float64(0.039559885362415136)), (1188, np.float64(0.006656087759567883)), (1189, np.float64(0.03729690155291646)), (1190, np.float64(0.009369394094982662)), (1191, np.float64(0.017668350367995116)), (1192, np.float64(0.014225798327717892)), (1193, np.float64(0.006027451843968885)), (1194, np.float64(0.007253247049013452)), (1195, np.float64(0.03203993612274331)), (1196, np.float64(0.20914080748900538)), (1197, np.float64(0.02136593211387689)), (1198, np.float64(0.03580547976219038)), (1199, np.float64(0.011626042203783708)), (1200, np.float64(0.008505376437582448)), (1201, np.float64(0.012064739494917995)), (1202, np.float64(0.01787837852124492)), (1203, np.float64(0.03808887366510376)), (1204, np.float64(0.01743516162270844)), (1205, np.float64(0.0207022136837286)), (1206, np.float64(0.0)), (1207, np.float64(0.031295740449674016)), (1208, np.float64(0.013106471885629087)), (1209, np.float64(0.02499399242044012)), (1210, np.float64(0.01171903919439881)), (1211, np.float64(0.013020737423934762)), (1212, np.float64(0.0)), (1213, np.float64(0.0)), (1214, np.float64(0.017285550936785066)), (1215, np.float64(0.00937186260254958)), (1216, np.float64(0.013684181809367585)), (1217, np.float64(0.0)), (1218, np.float64(0.0)), (1219, np.float64(0.02969559907694343)), (1220, np.float64(0.0)), (1221, np.float64(0.041522866774382036)), (1222, np.float64(0.0)), (1223, np.float64(0.007318514527579653)), (1224, np.float64(0.04147880906260184)), (1225, np.float64(0.01912884360934254)), (1226, np.float64(0.015987103122165874)), (1227, np.float64(0.0)), (1228, np.float64(0.006537003142432899)), (1229, np.float64(0.0)), (1230, np.float64(0.016664569618707607)), (1231, np.float64(0.005729407886734424)), (1232, np.float64(0.011917914123512756)), (1233, np.float64(0.032956746540554686)), (1234, np.float64(0.022700267722142845)), (1235, np.float64(0.05114189845628085)), (1236, np.float64(0.010089137557900432)), (1237, np.float64(0.030794609539862246)), (1238, np.float64(0.005101514754887226)), (1239, np.float64(0.0)), (1240, np.float64(0.043104129036980875)), (1241, np.float64(0.011322847777878838)), (1242, np.float64(0.0)), (1243, np.float64(0.019879884385479787)), (1244, np.float64(0.010722446666448327)), (1245, np.float64(0.03234945363450147)), (1246, np.float64(0.0)), (1247, np.float64(0.039348563424533564)), (1248, np.float64(0.05297291491777495)), (1249, np.float64(0.0)), (1250, np.float64(0.019312124147121357)), (1251, np.float64(0.010404273125002701)), (1252, np.float64(0.044679026246424614)), (1253, np.float64(0.04577707800087656)), (1254, np.float64(0.021138289269886614)), (1255, np.float64(0.013884482220614773)), (1256, np.float64(0.0)), (1257, np.float64(0.04910591543606537)), (1258, np.float64(0.02760973734492712)), (1259, np.float64(0.021185584698121325)), (1260, np.float64(0.0)), (1261, np.float64(0.04333687875284011)), (1262, np.float64(0.012385464066184241)), (1263, np.float64(0.0)), (1264, np.float64(0.06368470332368509)), (1265, np.float64(0.0)), (1266, np.float64(0.015651638604107385)), (1267, np.float64(0.019402790131169516)), (1268, np.float64(0.02188014065533661)), (1269, np.float64(0.018444373193854682)), (1270, np.float64(0.013700484889047616)), (1271, np.float64(0.009736106326568711)), (1272, np.float64(0.0319733377820858)), (1273, np.float64(0.007857032194925324)), (1274, np.float64(0.034277214352177655)), (1275, np.float64(0.03630804274924264)), (1276, np.float64(0.0)), (1277, np.float64(0.024295104068330783)), (1278, np.float64(0.019441335653646502)), (1279, np.float64(0.04261062957632834)), (1280, np.float64(0.015530803354973002)), (1281, np.float64(0.050649606021698206)), (1282, np.float64(0.031816900695347594)), (1283, np.float64(0.0)), (1284, np.float64(0.0)), (1285, np.float64(0.02011822624395243)), (1286, np.float64(0.0)), (1287, np.float64(0.01971377530682686)), (1288, np.float64(0.0)), (1289, np.float64(0.03360809920104835)), (1290, np.float64(0.0)), (1291, np.float64(0.0)), (1292, np.float64(0.0)), (1293, np.float64(0.04203220367618627)), (1294, np.float64(0.015299521162956466)), (1295, np.float64(0.0)), (1296, np.float64(0.006972628446111585)), (1297, np.float64(0.0)), (1298, np.float64(0.03381119943454963)), (1299, np.float64(0.015837555909217246)), (1300, np.float64(0.0)), (1301, np.float64(0.0068934718501469875)), (1302, np.float64(0.01135910959540946)), (1303, np.float64(0.0)), (1304, np.float64(0.023787983405866863)), (1305, np.float64(0.0)), (1306, np.float64(0.0)), (1307, np.float64(0.008041804069523019)), (1308, np.float64(0.011490397923290561)), (1309, np.float64(0.03686268731240627)), (1310, np.float64(0.02985777627120976)), (1311, np.float64(0.0)), (1312, np.float64(0.05525944079885464)), (1313, np.float64(0.016420860061024334)), (1314, np.float64(0.0)), (1315, np.float64(0.005991147486396992)), (1316, np.float64(0.019285932142419894)), (1317, np.float64(0.006081327717195641)), (1318, np.float64(0.0)), (1319, np.float64(0.0)), (1320, np.float64(0.047281950036899896)), (1321, np.float64(0.0)), (1322, np.float64(0.0)), (1323, np.float64(0.03360026671996727)), (1324, np.float64(0.0059992090958710395)), (1325, np.float64(0.0)), (1326, np.float64(0.018989683416083012)), (1327, np.float64(0.01394680815478657)), (1328, np.float64(0.0)), (1329, np.float64(0.042123233450082696)), (1330, np.float64(0.04318726946864291)), (1331, np.float64(0.0)), (1332, np.float64(0.0)), (1333, np.float64(0.0)), (1334, np.float64(0.04124108974377017)), (1335, np.float64(0.0)), (1336, np.float64(0.02430199470388348)), (1337, np.float64(0.006026433041305545)), (1338, np.float64(0.006406903039336147)), (1339, np.float64(0.0)), (1340, np.float64(0.0)), (1341, np.float64(0.03633111045033431)), (1342, np.float64(0.017457662146089344)), (1343, np.float64(0.006196791559128896)), (1344, np.float64(0.008107411561949445)), (1345, np.float64(0.062030978380607435)), (1346, np.float64(0.017589969783481287)), (1347, np.float64(0.015346066615507878)), (1348, np.float64(0.0)), (1349, np.float64(0.0)), (1350, np.float64(0.0)), (1351, np.float64(0.0)), (1352, np.float64(0.01216153468423539)), (1353, np.float64(0.007201170551144819)), (1354, np.float64(0.03185869541679012)), (1355, np.float64(0.023619967035678317)), (1356, np.float64(0.046813523361485)), (1357, np.float64(0.0)), (1358, np.float64(0.0)), (1359, np.float64(0.0)), (1360, np.float64(0.0)), (1361, np.float64(0.0)), (1362, np.float64(0.0)), (1363, np.float64(0.009616615457048014)), (1364, np.float64(0.05615469491417294)), (1365, np.float64(0.02160064848145867)), (1366, np.float64(0.0)), (1367, np.float64(0.0)), (1368, np.float64(0.02209740013016853)), (1369, np.float64(0.017527282943200266)), (1370, np.float64(0.0)), (1371, np.float64(0.041650295032903586)), (1372, np.float64(0.00980740725164362)), (1373, np.float64(0.0)), (1374, np.float64(0.0207022136837286)), (1375, np.float64(0.0)), (1376, np.float64(0.008547544062474936)), (1377, np.float64(0.01799222346780502)), (1378, np.float64(0.010250948870675756)), (1379, np.float64(0.05081653531111675)), (1380, np.float64(0.00862069394704752)), (1381, np.float64(0.0)), (1382, np.float64(0.01200306585462118)), (1383, np.float64(0.029165389941402525)), (1384, np.float64(0.013527762764391979)), (1385, np.float64(0.041619302536956754)), (1386, np.float64(0.010684578788730276)), (1387, np.float64(0.09454343941411424)), (1388, np.float64(0.017398004618900016)), (1389, np.float64(0.006467922397180596)), (1390, np.float64(0.07176358775056371)), (1391, np.float64(0.02667839032934439)), (1392, np.float64(0.01213290031760431)), (1393, np.float64(0.0)), (1394, np.float64(0.0)), (1395, np.float64(0.0)), (1396, np.float64(0.029970863648643434)), (1397, np.float64(0.01455974818277313)), (1398, np.float64(0.04198374387575518)), (1399, np.float64(0.01804604369251904))]\n"
          ]
        }
      ]
    },
    {
      "cell_type": "code",
      "source": [
        "len(similarity_score)"
      ],
      "metadata": {
        "colab": {
          "base_uri": "https://localhost:8080/"
        },
        "id": "XtiWnWiExPVn",
        "outputId": "2f392d84-448b-4c19-b757-881fe9e4a63d"
      },
      "execution_count": 102,
      "outputs": [
        {
          "output_type": "execute_result",
          "data": {
            "text/plain": [
              "1400"
            ]
          },
          "metadata": {},
          "execution_count": 102
        }
      ]
    },
    {
      "cell_type": "code",
      "source": [
        "sorted_similar_movies = sorted(similarity_score,key = lambda x:x[1], reverse=True)\n",
        "print(sorted_similar_movies)"
      ],
      "metadata": {
        "id": "WIAjsJAxxVMB",
        "colab": {
          "base_uri": "https://localhost:8080/"
        },
        "outputId": "df434ae4-49a2-4a2d-cd8c-92886735001b"
      },
      "execution_count": 103,
      "outputs": [
        {
          "output_type": "stream",
          "name": "stdout",
          "text": [
            "[(6, np.float64(1.0000000000000002)), (552, np.float64(0.3088982453039397)), (628, np.float64(0.30310224460211765)), (688, np.float64(0.2342228163702276)), (1196, np.float64(0.20914080748900538)), (826, np.float64(0.18463695852338333)), (515, np.float64(0.17645410636565156)), (28, np.float64(0.14712223541114333)), (199, np.float64(0.14583900526929694)), (238, np.float64(0.1431845310681621)), (790, np.float64(0.14154405545597354)), (222, np.float64(0.14104075634065708)), (558, np.float64(0.1406453946119288)), (140, np.float64(0.13872547649937927)), (483, np.float64(0.13716752728228368)), (51, np.float64(0.12927758187710525)), (726, np.float64(0.12740347533175667)), (449, np.float64(0.12576768782080652)), (319, np.float64(0.11875911577331023)), (697, np.float64(0.11555055452959187)), (298, np.float64(0.11434011994191767)), (898, np.float64(0.11113003433047455)), (576, np.float64(0.11062252224468037)), (93, np.float64(0.11051449534864605)), (657, np.float64(0.11027973417948717)), (402, np.float64(0.10557411115120896)), (110, np.float64(0.10208034212089448)), (277, np.float64(0.09903706295008144)), (155, np.float64(0.09789251941286586)), (283, np.float64(0.09713958713601994)), (1387, np.float64(0.09454343941411424)), (99, np.float64(0.09450721608337745)), (1011, np.float64(0.0888695169450609)), (2, np.float64(0.08772004218558258)), (807, np.float64(0.08743864271207187)), (10, np.float64(0.08642293455451447)), (837, np.float64(0.0864069589216635)), (648, np.float64(0.08556252329070356)), (1158, np.float64(0.08465501793820907)), (801, np.float64(0.08461817788425531)), (33, np.float64(0.08397397301768414)), (1076, np.float64(0.08284218972077362)), (362, np.float64(0.08270303277302701)), (456, np.float64(0.08248315279909153)), (665, np.float64(0.08238556039086259)), (535, np.float64(0.08005569147823444)), (852, np.float64(0.0795448684135678)), (566, np.float64(0.07693143292513405)), (46, np.float64(0.07675602989643728)), (729, np.float64(0.0762637400102232)), (719, np.float64(0.0761626166218564)), (468, np.float64(0.07549885654565658)), (410, np.float64(0.07521828400936004)), (1104, np.float64(0.07458102048967614)), (102, np.float64(0.07349842203494579)), (565, np.float64(0.07326346273053538)), (651, np.float64(0.0726553935216367)), (467, np.float64(0.0722960977692578)), (998, np.float64(0.07186925740132347)), (400, np.float64(0.07177353632486788)), (1390, np.float64(0.07176358775056371)), (614, np.float64(0.07174543141629929)), (333, np.float64(0.07144234916061526)), (194, np.float64(0.07109806201038946)), (336, np.float64(0.0705446360714215)), (822, np.float64(0.0704246254333381)), (1145, np.float64(0.07001022850422993)), (41, np.float64(0.06917512386066993)), (1005, np.float64(0.0676326293512567)), (217, np.float64(0.06749649721522073)), (276, np.float64(0.06743770163966281)), (426, np.float64(0.06739307399324114)), (553, np.float64(0.06702597717676156)), (94, np.float64(0.06681913995852096)), (47, np.float64(0.06645261786115987)), (292, np.float64(0.06618760208743399)), (784, np.float64(0.0661414005972949)), (106, np.float64(0.06597283225705694)), (767, np.float64(0.06570236827077477)), (549, np.float64(0.0656840074073912)), (572, np.float64(0.06561141718923368)), (130, np.float64(0.06526700262038625)), (228, np.float64(0.06490366998096678)), (389, np.float64(0.06489700904642269)), (396, np.float64(0.06479113223221333)), (912, np.float64(0.06472915973827009)), (181, np.float64(0.06461516805436215)), (127, np.float64(0.06425833934559347)), (241, np.float64(0.0641276067846404)), (491, np.float64(0.06397657903133665)), (156, np.float64(0.06385301913657015)), (182, np.float64(0.06383642291760906)), (923, np.float64(0.06368983732683009)), (1264, np.float64(0.06368470332368509)), (902, np.float64(0.06309903413701398)), (1173, np.float64(0.06298544160402408)), (955, np.float64(0.06293717429933238)), (828, np.float64(0.06268264549394742)), (526, np.float64(0.06263367449572085)), (452, np.float64(0.06216786613732672)), (1092, np.float64(0.06210923984644896)), (973, np.float64(0.06208751489728041)), (1345, np.float64(0.062030978380607435)), (805, np.float64(0.06195649095050476)), (727, np.float64(0.06145457359551533)), (187, np.float64(0.061444448361435276)), (433, np.float64(0.06119847095276827)), (598, np.float64(0.06093071005932466)), (1153, np.float64(0.060841623898787084)), (866, np.float64(0.060666059117542304)), (363, np.float64(0.0601866730639279)), (266, np.float64(0.0601047713962351)), (282, np.float64(0.05990065036198629)), (795, np.float64(0.05966450745227452)), (170, np.float64(0.05954228576073754)), (1004, np.float64(0.05941931870767764)), (34, np.float64(0.05938225849099758)), (470, np.float64(0.059284279120519534)), (73, np.float64(0.0592148658739679)), (406, np.float64(0.059106792834392574)), (149, np.float64(0.0587821517371153)), (9, np.float64(0.0586257858389587)), (7, np.float64(0.05834226596181804)), (58, np.float64(0.05827116980787489)), (220, np.float64(0.058260387307396154)), (322, np.float64(0.058090160930503516)), (459, np.float64(0.05792708307544327)), (286, np.float64(0.057750785275621365)), (29, np.float64(0.05770979168637566)), (1172, np.float64(0.05770566055999352)), (800, np.float64(0.05763026760905474)), (819, np.float64(0.057395328491847766)), (300, np.float64(0.0571933234213637)), (26, np.float64(0.0570295161965957)), (290, np.float64(0.056937576000511705)), (346, np.float64(0.05684059613729351)), (296, np.float64(0.05679086078271203)), (133, np.float64(0.0566455839246285)), (457, np.float64(0.056402732434406765)), (1364, np.float64(0.05615469491417294)), (804, np.float64(0.05587620866088406)), (415, np.float64(0.055672084439377656)), (306, np.float64(0.05560329947760008)), (404, np.float64(0.05547408692118062)), (183, np.float64(0.05545632835743933)), (849, np.float64(0.05542850167373961)), (1312, np.float64(0.05525944079885464)), (1151, np.float64(0.055205254987748344)), (494, np.float64(0.055066577017257395)), (573, np.float64(0.05483308825288664)), (146, np.float64(0.05482465722859542)), (67, np.float64(0.05480823095766854)), (920, np.float64(0.05461574263133134)), (841, np.float64(0.054489003512507204)), (321, np.float64(0.05446589015133296)), (505, np.float64(0.05435206123381342)), (1142, np.float64(0.05427781556362523)), (315, np.float64(0.05404384023518077)), (769, np.float64(0.053992789954740314)), (207, np.float64(0.05391439789006997)), (202, np.float64(0.05333013530418664)), (994, np.float64(0.05330612733210526)), (1248, np.float64(0.05297291491777495)), (509, np.float64(0.05278867739019373)), (808, np.float64(0.05277122926312778)), (654, np.float64(0.05257706522014042)), (39, np.float64(0.052449057595675405)), (560, np.float64(0.05240713114309624)), (340, np.float64(0.05228068118282507)), (664, np.float64(0.052228200415716866)), (455, np.float64(0.05221440604940881)), (633, np.float64(0.05212687353419058)), (1098, np.float64(0.052073786699484176)), (49, np.float64(0.05170739135611864)), (595, np.float64(0.0516305303607313)), (993, np.float64(0.051431889948071824)), (689, np.float64(0.05115894959761978)), (1235, np.float64(0.05114189845628085)), (1379, np.float64(0.05081653531111675)), (1281, np.float64(0.050649606021698206)), (353, np.float64(0.050573356276458155)), (123, np.float64(0.0504851980313009)), (245, np.float64(0.050221542738814115)), (1036, np.float64(0.050001131797676554)), (625, np.float64(0.04992390398907774)), (1067, np.float64(0.04991814639088004)), (42, np.float64(0.04979737350638435)), (236, np.float64(0.04971536205829847)), (326, np.float64(0.04959020111333488)), (851, np.float64(0.049549668422121045)), (262, np.float64(0.04954645767988043)), (104, np.float64(0.04948104648115502)), (715, np.float64(0.04941087006865226)), (610, np.float64(0.04935287593943409)), (544, np.float64(0.04932429899781936)), (378, np.float64(0.04930402229150979)), (454, np.float64(0.04921420134681925)), (161, np.float64(0.0491614757482658)), (1257, np.float64(0.04910591543606537)), (870, np.float64(0.04903827306547383)), (711, np.float64(0.04898796071701244)), (258, np.float64(0.04878264040775582)), (581, np.float64(0.0487814893061807)), (561, np.float64(0.048694761129683246)), (1102, np.float64(0.04845046861756594)), (77, np.float64(0.048350139414447664)), (30, np.float64(0.04823964949474023)), (271, np.float64(0.048214044501657824)), (323, np.float64(0.04791027457830403)), (518, np.float64(0.04774098063230935)), (1088, np.float64(0.0476678938047571)), (789, np.float64(0.04756963303489226)), (873, np.float64(0.047514141576930666)), (1030, np.float64(0.04748509297323676)), (341, np.float64(0.04747886526795133)), (728, np.float64(0.04743300178137558)), (171, np.float64(0.04732172732383213)), (1320, np.float64(0.047281950036899896)), (197, np.float64(0.04727559504268644)), (18, np.float64(0.047229450516525585)), (475, np.float64(0.047102944047358805)), (882, np.float64(0.04695306430221582)), (1356, np.float64(0.046813523361485)), (35, np.float64(0.04666201492055707)), (524, np.float64(0.04654912610044729)), (219, np.float64(0.04651259747495156)), (160, np.float64(0.04646449194647912)), (63, np.float64(0.04627414915532169)), (547, np.float64(0.046248183895848234)), (961, np.float64(0.04607374341132484)), (1253, np.float64(0.04577707800087656)), (451, np.float64(0.04550222389968729)), (674, np.float64(0.04548101097858487)), (147, np.float64(0.04546424552694543)), (626, np.float64(0.04536903971385199)), (144, np.float64(0.04523428624901922)), (935, np.float64(0.04520872575496763)), (550, np.float64(0.04510997133703144)), (525, np.float64(0.04503119811612448)), (141, np.float64(0.04500357809071763)), (1068, np.float64(0.04499918011557658)), (749, np.float64(0.04497109700171012)), (624, np.float64(0.04483941609129511)), (435, np.float64(0.044741911933408936)), (185, np.float64(0.04473821954241254)), (499, np.float64(0.04471795316451842)), (1252, np.float64(0.044679026246424614)), (845, np.float64(0.04465344688559168)), (248, np.float64(0.0444856624224388)), (747, np.float64(0.044461149621532)), (437, np.float64(0.04445289606066665)), (210, np.float64(0.04424287147152669)), (287, np.float64(0.044214513446252206)), (759, np.float64(0.04404953628598009)), (590, np.float64(0.04371480675385132)), (479, np.float64(0.0437094689091739)), (153, np.float64(0.04348664795988342)), (788, np.float64(0.043459576994555445)), (1051, np.float64(0.04344832900416091)), (1261, np.float64(0.04333687875284011)), (57, np.float64(0.043322963284815795)), (512, np.float64(0.04331978597654469)), (1330, np.float64(0.04318726946864291)), (621, np.float64(0.04314651700623914)), (1240, np.float64(0.043104129036980875)), (330, np.float64(0.043097184942974695)), (418, np.float64(0.04304921008024594)), (1032, np.float64(0.04299138610456672)), (203, np.float64(0.042899468796914544)), (825, np.float64(0.04289079100031794)), (492, np.float64(0.04287513300184518)), (498, np.float64(0.04282658019539602)), (872, np.float64(0.04274596699179262)), (854, np.float64(0.04268056462109323)), (1279, np.float64(0.04261062957632834)), (701, np.float64(0.042591020253390344)), (1093, np.float64(0.042567098548549266)), (311, np.float64(0.04249715535678533)), (227, np.float64(0.04248930401486605)), (1329, np.float64(0.042123233450082696)), (1293, np.float64(0.04203220367618627)), (387, np.float64(0.041986090607673845)), (1398, np.float64(0.04198374387575518)), (1090, np.float64(0.041978395167191915)), (448, np.float64(0.04197240356001806)), (1118, np.float64(0.041951658173965)), (119, np.float64(0.041894695943796606)), (458, np.float64(0.041804307944900976)), (107, np.float64(0.041698905227924986)), (630, np.float64(0.04168258130949352)), (641, np.float64(0.04167774193874073)), (1371, np.float64(0.041650295032903586)), (351, np.float64(0.04162540217365595)), (1385, np.float64(0.041619302536956754)), (1221, np.float64(0.041522866774382036)), (658, np.float64(0.04151319624121538)), (1224, np.float64(0.04147880906260184)), (301, np.float64(0.04144638624498896)), (858, np.float64(0.04129909628777835)), (1334, np.float64(0.04124108974377017)), (700, np.float64(0.04120386044083474)), (489, np.float64(0.041079491704762355)), (339, np.float64(0.04103792476837642)), (486, np.float64(0.040886071340267824)), (540, np.float64(0.040786125315368675)), (976, np.float64(0.040714478408406855)), (263, np.float64(0.04069645815874422)), (527, np.float64(0.04068329288862718)), (679, np.float64(0.04017014552346225)), (82, np.float64(0.04016711943110322)), (752, np.float64(0.040149130486465394)), (372, np.float64(0.04013171752336963)), (384, np.float64(0.040101072067173706)), (937, np.float64(0.039897407084166676)), (791, np.float64(0.03986632047825646)), (532, np.float64(0.039836193382235596)), (513, np.float64(0.03970230149628078)), (868, np.float64(0.03967285109799641)), (84, np.float64(0.039658763982162504)), (741, np.float64(0.03959510343453774)), (1187, np.float64(0.039559885362415136)), (264, np.float64(0.03939655067474056)), (335, np.float64(0.03935056880813747)), (1247, np.float64(0.039348563424533564)), (76, np.float64(0.03910089173417336)), (650, np.float64(0.039041225581183045)), (8, np.float64(0.03902149351046401)), (273, np.float64(0.03895967391702394)), (1061, np.float64(0.038957507858161364)), (1136, np.float64(0.038886819404134784)), (460, np.float64(0.038772760115381874)), (178, np.float64(0.038767056073446216)), (588, np.float64(0.03863802518618127)), (148, np.float64(0.038543806029375766)), (892, np.float64(0.03845667368416633)), (534, np.float64(0.03841891750737367)), (379, np.float64(0.03841631809186476)), (949, np.float64(0.03834900751958018)), (692, np.float64(0.0383414106024477)), (925, np.float64(0.03820674024733339)), (151, np.float64(0.03818861271360599)), (1203, np.float64(0.03808887366510376)), (48, np.float64(0.03808290323041574)), (137, np.float64(0.03803433532177993)), (768, np.float64(0.03802969051776897)), (897, np.float64(0.038004978095615885)), (329, np.float64(0.03789598936045503)), (940, np.float64(0.037805860147006654)), (493, np.float64(0.03770942014453129)), (280, np.float64(0.03770903796914449)), (352, np.float64(0.037651863874372596)), (180, np.float64(0.037624978994859094)), (114, np.float64(0.037517021086328387)), (366, np.float64(0.03738432916055398)), (809, np.float64(0.03737720593770121)), (1189, np.float64(0.03729690155291646)), (707, np.float64(0.03729677236605717)), (687, np.float64(0.03722607018330647)), (313, np.float64(0.037225775392757565)), (786, np.float64(0.03720670214694168)), (193, np.float64(0.037201651659514744)), (818, np.float64(0.037071645399078465)), (409, np.float64(0.03703980896680329)), (699, np.float64(0.037025904193183946)), (299, np.float64(0.03701848089304639)), (1071, np.float64(0.036981872567307075)), (1309, np.float64(0.03686268731240627)), (256, np.float64(0.03674765778544599)), (632, np.float64(0.0367165196842139)), (686, np.float64(0.03663705529233632)), (863, np.float64(0.036549804926199594)), (480, np.float64(0.03647164863506046)), (1341, np.float64(0.03633111045033431)), (1275, np.float64(0.03630804274924264)), (999, np.float64(0.03622821604829493)), (232, np.float64(0.03611349809884566)), (574, np.float64(0.035891317920077104)), (1198, np.float64(0.03580547976219038)), (354, np.float64(0.0358020301541473)), (361, np.float64(0.03580026528832147)), (910, np.float64(0.03578567525599291)), (87, np.float64(0.035780923312898796)), (211, np.float64(0.035778063675656065)), (360, np.float64(0.03568911178344869)), (802, np.float64(0.0356390533602266)), (514, np.float64(0.035534791170039985)), (691, np.float64(0.035526679184098464)), (120, np.float64(0.035516826380430265)), (1120, np.float64(0.035509156285608426)), (324, np.float64(0.03548005084061521)), (1053, np.float64(0.03544318456481391)), (0, np.float64(0.035349506927619616)), (259, np.float64(0.03534429616824017)), (985, np.float64(0.03532569888912604)), (571, np.float64(0.03528506604823957)), (105, np.float64(0.03525528990536632)), (812, np.float64(0.03519560521795539)), (967, np.float64(0.0351579048783646)), (214, np.float64(0.03511700021473682)), (712, np.float64(0.03510383812420351)), (294, np.float64(0.035019348572815606)), (438, np.float64(0.0349783098376338)), (476, np.float64(0.03491060800237342)), (272, np.float64(0.034860294078615975)), (190, np.float64(0.03485434039913852)), (121, np.float64(0.034753433364707695)), (373, np.float64(0.03473869438261961)), (142, np.float64(0.03472846716361832)), (431, np.float64(0.03464293036554677)), (1134, np.float64(0.03458895311269824)), (398, np.float64(0.034487429655996465)), (724, np.float64(0.03448619674254147)), (636, np.float64(0.034464078729699636)), (533, np.float64(0.034405194009746204)), (375, np.float64(0.03439397657218467)), (239, np.float64(0.03437736307471723)), (143, np.float64(0.03433389429768499)), (796, np.float64(0.03429897237146459)), (683, np.float64(0.03428774314848372)), (1274, np.float64(0.034277214352177655)), (663, np.float64(0.03424062876827562)), (382, np.float64(0.03420063156098458)), (14, np.float64(0.03416252318500911)), (284, np.float64(0.03411332155185026)), (54, np.float64(0.034105686419429)), (521, np.float64(0.03406490816329854)), (734, np.float64(0.03397969107470741)), (1298, np.float64(0.03381119943454963)), (1, np.float64(0.033726080776540664)), (1180, np.float64(0.033706673571577)), (98, np.float64(0.03363884039119508)), (1289, np.float64(0.03360809920104835)), (1323, np.float64(0.03360026671996727)), (543, np.float64(0.03356315004987031)), (933, np.float64(0.03346810447483762)), (545, np.float64(0.03333598003697397)), (926, np.float64(0.03333259924776495)), (656, np.float64(0.033222950482764524)), (345, np.float64(0.033218361822287344)), (653, np.float64(0.033142611399043134)), (118, np.float64(0.0331383307844249)), (1015, np.float64(0.03312717562104876)), (1094, np.float64(0.032957160346501035)), (1233, np.float64(0.032956746540554686)), (1020, np.float64(0.03293284479502907)), (836, np.float64(0.032891918090692994)), (962, np.float64(0.032863537057843936)), (285, np.float64(0.03286031047975567)), (233, np.float64(0.03265612563814855)), (1144, np.float64(0.03260560659530805)), (732, np.float64(0.03255530097904494)), (314, np.float64(0.03255058440308591)), (439, np.float64(0.03249158668757568)), (138, np.float64(0.03248970135513507)), (1245, np.float64(0.03234945363450147)), (3, np.float64(0.0323284212562278)), (585, np.float64(0.03232604268084764)), (1018, np.float64(0.032234437488281434)), (64, np.float64(0.032155413556269)), (1195, np.float64(0.03203993612274331)), (564, np.float64(0.032032572323613145)), (984, np.float64(0.032001844173722774)), (1272, np.float64(0.0319733377820858)), (1354, np.float64(0.03185869541679012)), (1282, np.float64(0.031816900695347594)), (957, np.float64(0.03180783155263837)), (447, np.float64(0.03178598302572516)), (965, np.float64(0.031734839134840535)), (1000, np.float64(0.031703748927376554)), (1113, np.float64(0.031696885646245065)), (714, np.float64(0.03164189176684809)), (649, np.float64(0.031638321015621695)), (249, np.float64(0.031452120548094584)), (131, np.float64(0.03139148963464994)), (705, np.float64(0.03137759216041566)), (877, np.float64(0.03131604924593396)), (1207, np.float64(0.031295740449674016)), (381, np.float64(0.031292597429089845)), (1006, np.float64(0.031280111964559626)), (443, np.float64(0.03126736887329164)), (755, np.float64(0.031266966340448586)), (943, np.float64(0.03120764320639812)), (643, np.float64(0.03110523892984815)), (619, np.float64(0.031082645426782102)), (662, np.float64(0.030919102064612736)), (477, np.float64(0.03089745453878735)), (388, np.float64(0.030872932243850612)), (764, np.float64(0.030805560760097533)), (23, np.float64(0.030798644850005896)), (1237, np.float64(0.030794609539862246)), (538, np.float64(0.030728787758085473)), (1129, np.float64(0.03067631931795243)), (746, np.float64(0.03066890659313398)), (235, np.float64(0.03064512821628719)), (1131, np.float64(0.03061498032261826)), (145, np.float64(0.030570627260268886)), (159, np.float64(0.030521692600790032)), (992, np.float64(0.030418667189487193)), (95, np.float64(0.03036833306864755)), (775, np.float64(0.03024065821389932)), (1179, np.float64(0.030183399851373506)), (562, np.float64(0.030106240316505453)), (1396, np.float64(0.029970863648643434)), (989, np.float64(0.02996502853821669)), (420, np.float64(0.02994369172403815)), (132, np.float64(0.029912535860838634)), (1012, np.float64(0.029901999290307103)), (1181, np.float64(0.029858137150565213)), (1310, np.float64(0.02985777627120976)), (275, np.float64(0.029853338055402287)), (92, np.float64(0.02983353293287602)), (1056, np.float64(0.029725955838598432)), (1219, np.float64(0.02969559907694343)), (407, np.float64(0.029659273363234914)), (85, np.float64(0.029421223806960217)), (150, np.float64(0.029333443833405852)), (930, np.float64(0.029248784069586274)), (1160, np.float64(0.02922582545046398)), (954, np.float64(0.02919070308386095)), (1383, np.float64(0.029165389941402525)), (635, np.float64(0.029160032904921855)), (618, np.float64(0.02904309429764408)), (613, np.float64(0.028910050012368616)), (620, np.float64(0.02883486872261709)), (924, np.float64(0.028823680341871893)), (842, np.float64(0.028807600654905584)), (463, np.float64(0.028785832379942023)), (629, np.float64(0.028772520334698307)), (445, np.float64(0.028755876293594038)), (158, np.float64(0.028745490704369714)), (1007, np.float64(0.028743730025158565)), (488, np.float64(0.028663962486211034)), (867, np.float64(0.0285369579978648)), (1100, np.float64(0.028525907893225365)), (356, np.float64(0.028515037429142305)), (391, np.float64(0.028495277584950754)), (45, np.float64(0.028432503428516068)), (497, np.float64(0.02843210749319903)), (376, np.float64(0.02836858785120433)), (981, np.float64(0.028281050087289195)), (100, np.float64(0.028275223439778674)), (15, np.float64(0.02824986590926317)), (539, np.float64(0.028248627324503048)), (152, np.float64(0.028209271843147147)), (390, np.float64(0.02820532576284404)), (215, np.float64(0.02818122892271948)), (681, np.float64(0.02810842631534117)), (1038, np.float64(0.027966204785535458)), (5, np.float64(0.027908513436920423)), (68, np.float64(0.027875164806137182)), (312, np.float64(0.027861185600613656)), (941, np.float64(0.027810591660223694)), (703, np.float64(0.02780215045108031)), (37, np.float64(0.027799354352517548)), (737, np.float64(0.02775906397497755)), (575, np.float64(0.027716810108728094)), (1097, np.float64(0.027624373857098764)), (1258, np.float64(0.02760973734492712)), (580, np.float64(0.02750388135781757)), (374, np.float64(0.027492774298668504)), (597, np.float64(0.027482006197080605)), (320, np.float64(0.027454975516051333)), (343, np.float64(0.027442625784841683)), (1010, np.float64(0.02742539728217652)), (308, np.float64(0.027402665857868)), (465, np.float64(0.027390650967237893)), (429, np.float64(0.027353957835589582)), (1069, np.float64(0.027291214669078735)), (53, np.float64(0.02726723643856551)), (787, np.float64(0.02723028102907418)), (27, np.float64(0.02722369434157626)), (627, np.float64(0.027193979499358485)), (980, np.float64(0.02712397416703488)), (1050, np.float64(0.027076555846921965)), (869, np.float64(0.02703844125681223)), (441, np.float64(0.027008149195982586)), (744, np.float64(0.026993462326188024)), (469, np.float64(0.02690222714878593)), (874, np.float64(0.026872149250368557)), (122, np.float64(0.026836131931970826)), (1391, np.float64(0.02667839032934439)), (1037, np.float64(0.026634406102854336)), (570, np.float64(0.02662628120915355)), (81, np.float64(0.026582522096389415)), (1125, np.float64(0.02628110741683079)), (278, np.float64(0.02621545609134898)), (172, np.float64(0.0261588285868348)), (718, np.float64(0.026138477214595713)), (978, np.float64(0.026083997635026144)), (640, np.float64(0.026079487954939837)), (952, np.float64(0.02593672865401565)), (357, np.float64(0.02586428680113713)), (660, np.float64(0.025820379938654527)), (38, np.float64(0.02576931928355191)), (442, np.float64(0.02571936972450318)), (1161, np.float64(0.025673495544383307)), (710, np.float64(0.025608563884902)), (537, np.float64(0.025574234001251563)), (386, np.float64(0.0255726905196802)), (706, np.float64(0.02553437181805764)), (780, np.float64(0.025499684381709506)), (424, np.float64(0.02543250207752422)), (252, np.float64(0.02531286376533602)), (652, np.float64(0.025238866958375326)), (432, np.float64(0.025238363346053866)), (293, np.float64(0.025211753522352262)), (17, np.float64(0.025203604554143007)), (43, np.float64(0.025119152301836166)), (1026, np.float64(0.025097099349742413)), (1025, np.float64(0.025025405447545862)), (1073, np.float64(0.0250151777878809)), (269, np.float64(0.025008093822581096)), (1150, np.float64(0.025004212217753174)), (886, np.float64(0.025002782024818326)), (1209, np.float64(0.02499399242044012)), (173, np.float64(0.024930392962004687)), (951, np.float64(0.02483429337807917)), (225, np.float64(0.024758639194575043)), (1048, np.float64(0.024757884293105055)), (191, np.float64(0.024738873106985318)), (861, np.float64(0.024725740724279258)), (474, np.float64(0.024680760881317865)), (297, np.float64(0.02466869615779167)), (332, np.float64(0.024621334367855248)), (542, np.float64(0.024379569791941218)), (578, np.float64(0.02435435060162649)), (986, np.float64(0.024318252247367757)), (358, np.float64(0.024314001984313847)), (1336, np.float64(0.02430199470388348)), (1277, np.float64(0.024295104068330783)), (1101, np.float64(0.024239469046451977)), (607, np.float64(0.024232177825989187)), (209, np.float64(0.02422439874305072)), (932, np.float64(0.024152177319756482)), (83, np.float64(0.024124256689946062)), (766, np.float64(0.02410550318657937)), (367, np.float64(0.02409115929115046)), (338, np.float64(0.02408300183756107)), (304, np.float64(0.024018158481231643)), (1130, np.float64(0.023945401067126854)), (611, np.float64(0.023925621772947506)), (274, np.float64(0.023883583547259647)), (112, np.float64(0.023879432459413354)), (1170, np.float64(0.02385697727632716)), (79, np.float64(0.02379710149326351)), (1304, np.float64(0.023787983405866863)), (793, np.float64(0.023742668948607753)), (1089, np.float64(0.02371800206231954)), (927, np.float64(0.023716942608428868)), (971, np.float64(0.023648795147858302)), (399, np.float64(0.023647504924836575)), (911, np.float64(0.023623964170399976)), (1355, np.float64(0.023619967035678317)), (865, np.float64(0.02359561964906189)), (56, np.float64(0.023587000139375734)), (125, np.float64(0.02356839741638534)), (593, np.float64(0.023538250953194)), (198, np.float64(0.023467755059136248)), (369, np.float64(0.023412869130585715)), (637, np.float64(0.023390965583571805)), (936, np.float64(0.023302847715901742)), (226, np.float64(0.023301856563300534)), (1008, np.float64(0.023278911800533285)), (124, np.float64(0.023197550749353403)), (670, np.float64(0.023055198328677928)), (1058, np.float64(0.023052303092845516)), (579, np.float64(0.02302662437959304)), (20, np.float64(0.023019874777592826)), (62, np.float64(0.02291635346318202)), (16, np.float64(0.022885230035689777)), (773, np.float64(0.022836758782975277)), (1041, np.float64(0.022827303062071057)), (722, np.float64(0.022702896437720225)), (685, np.float64(0.022700267722142845)), (1234, np.float64(0.022700267722142845)), (101, np.float64(0.022679866758930634)), (427, np.float64(0.022555895657730442)), (634, np.float64(0.022319490800796947)), (846, np.float64(0.022316738755345462)), (408, np.float64(0.02222920206957296)), (380, np.float64(0.02220357307455103)), (317, np.float64(0.02219687739583644)), (599, np.float64(0.02209740013016853)), (645, np.float64(0.02209740013016853)), (758, np.float64(0.02209740013016853)), (1368, np.float64(0.02209740013016853)), (164, np.float64(0.021960104331722234)), (24, np.float64(0.02195912936184539)), (223, np.float64(0.02195586929245849)), (516, np.float64(0.02191028100430126)), (359, np.float64(0.02189497682912781)), (1268, np.float64(0.02188014065533661)), (1168, np.float64(0.021873169762336213)), (1154, np.float64(0.02179828456887506)), (519, np.float64(0.021778393959192323)), (310, np.float64(0.02164653959692018)), (888, np.float64(0.021636268405181097)), (922, np.float64(0.02160064848145867)), (1044, np.float64(0.02160064848145867)), (1072, np.float64(0.02160064848145867)), (1139, np.float64(0.02160064848145867)), (1365, np.float64(0.02160064848145867)), (52, np.float64(0.021599067544134216)), (392, np.float64(0.021587430300994245)), (1064, np.float64(0.021582136894311543)), (186, np.float64(0.02158156414779417)), (676, np.float64(0.021556487657327265)), (905, np.float64(0.021505083798918842)), (763, np.float64(0.021496123316908585)), (520, np.float64(0.021466910222074274)), (541, np.float64(0.021447651728471642)), (859, np.float64(0.02139172687701531)), (1197, np.float64(0.02136593211387689)), (855, np.float64(0.02134912801029613)), (423, np.float64(0.021315420195686774)), (609, np.float64(0.02131184568963531)), (900, np.float64(0.021226710092777244)), (1259, np.float64(0.021185584698121325)), (583, np.float64(0.02117677066221102)), (862, np.float64(0.021167583974060846)), (1254, np.float64(0.021138289269886614)), (425, np.float64(0.021115892665832033)), (950, np.float64(0.021093618557713516)), (983, np.float64(0.02105730469878626)), (485, np.float64(0.021029471556028793)), (591, np.float64(0.020992336779908367)), (838, np.float64(0.020980958126386028)), (66, np.float64(0.020846209766918374)), (777, np.float64(0.020817970468724464)), (958, np.float64(0.020817970468724464)), (364, np.float64(0.020792747880812354)), (328, np.float64(0.020744002949542224)), (416, np.float64(0.02071988155514866)), (904, np.float64(0.0207022136837286)), (1205, np.float64(0.0207022136837286)), (1374, np.float64(0.0207022136837286)), (196, np.float64(0.020667092827786046)), (265, np.float64(0.020652669243036013)), (559, np.float64(0.0206111446899293)), (798, np.float64(0.020577337319504105)), (349, np.float64(0.02052836866353714)), (884, np.float64(0.020496951952995453)), (21, np.float64(0.02049561081821918)), (162, np.float64(0.020449348655878732)), (883, np.float64(0.020418148708769547)), (594, np.float64(0.02039401030934481)), (834, np.float64(0.020366820387537656)), (403, np.float64(0.020358919772951685)), (126, np.float64(0.020306888529361883)), (192, np.float64(0.02030686530956434)), (1186, np.float64(0.020270655377745847)), (195, np.float64(0.020259977053346014)), (612, np.float64(0.020259226848622035)), (205, np.float64(0.02019739382256585)), (1285, np.float64(0.02011822624395243)), (556, np.float64(0.02003832733775241)), (370, np.float64(0.019961404221540826)), (844, np.float64(0.019937565023503523)), (1243, np.float64(0.019879884385479787)), (179, np.float64(0.01981627979142754)), (189, np.float64(0.019783523250180898)), (1287, np.float64(0.01971377530682686)), (756, np.float64(0.019679694105273322)), (638, np.float64(0.019595329996289348)), (4, np.float64(0.01949194954718523)), (251, np.float64(0.019484059223467888)), (1135, np.float64(0.01947668509320692)), (821, np.float64(0.01947502829164064)), (880, np.float64(0.0194559676754284)), (1278, np.float64(0.019441335653646502)), (1164, np.float64(0.019440769737368305)), (717, np.float64(0.01941942611736137)), (1267, np.float64(0.019402790131169516)), (661, np.float64(0.019393508107837413)), (260, np.float64(0.019315297559081603)), (1250, np.float64(0.019312124147121357)), (1316, np.float64(0.019285932142419894)), (1119, np.float64(0.0192264715209488)), (928, np.float64(0.019210788050920115)), (59, np.float64(0.019185841540077915)), (740, np.float64(0.01916779910592314)), (1225, np.float64(0.01912884360934254)), (887, np.float64(0.019126695728151448)), (847, np.float64(0.019122324357749403)), (383, np.float64(0.019104478725365463)), (478, np.float64(0.0190734502684851)), (1326, np.float64(0.018989683416083012)), (111, np.float64(0.018948278288438942)), (1152, np.float64(0.018933312304365665)), (174, np.float64(0.018890688403707584)), (1163, np.float64(0.018860110341980676)), (1042, np.float64(0.018773282626607456)), (224, np.float64(0.01877035768662431)), (1035, np.float64(0.018769610245792816)), (666, np.float64(0.01867684616945037)), (698, np.float64(0.018581283102535248)), (257, np.float64(0.01845203108563928)), (166, np.float64(0.018451385544763665)), (1269, np.float64(0.018444373193854682)), (169, np.float64(0.018433492055951593)), (291, np.float64(0.018427333796725693)), (1014, np.float64(0.01842206299823259)), (1070, np.float64(0.018372904647282022)), (206, np.float64(0.018353666222838787)), (129, np.float64(0.0182764199724667)), (554, np.float64(0.018264392836142968)), (671, np.float64(0.01824797302674598)), (659, np.float64(0.01822128938693406)), (11, np.float64(0.018177036139082774)), (830, np.float64(0.018157274998252045)), (13, np.float64(0.018124789346480312)), (1182, np.float64(0.01811821070449515)), (177, np.float64(0.01807508760033088)), (803, np.float64(0.01806255404523401)), (1399, np.float64(0.01804604369251904)), (1086, np.float64(0.018034642926676378)), (616, np.float64(0.018021841210593442)), (1377, np.float64(0.01799222346780502)), (1085, np.float64(0.017982009962444024)), (176, np.float64(0.01795334470410786)), (316, np.float64(0.017944731953041027)), (953, np.float64(0.017944161289983347)), (531, np.float64(0.01790945444163166)), (1202, np.float64(0.01787837852124492)), (555, np.float64(0.017865780895023102)), (1027, np.float64(0.0178450522348228)), (32, np.float64(0.01784121629563476)), (963, np.float64(0.01782347586515133)), (942, np.float64(0.01776040494692105)), (108, np.float64(0.017687533016226005)), (1191, np.float64(0.017668350367995116)), (982, np.float64(0.017600050227312113)), (1346, np.float64(0.017589969783481287)), (1369, np.float64(0.017527282943200266)), (506, np.float64(0.017491250757360886)), (436, np.float64(0.017487314173691242)), (113, np.float64(0.01748603590641812)), (771, np.float64(0.01748205305968422)), (1342, np.float64(0.017457662146089344)), (881, np.float64(0.017442669011823727)), (230, np.float64(0.017435914053949893)), (1204, np.float64(0.01743516162270844)), (1045, np.float64(0.017428967810895323)), (1184, np.float64(0.017406363712390318)), (1388, np.float64(0.017398004618900016)), (88, np.float64(0.017333283219350876)), (1214, np.float64(0.017285550936785066)), (623, np.float64(0.017267492523449078)), (453, np.float64(0.017205235685966113)), (237, np.float64(0.01715661171502138)), (1039, np.float64(0.01710480490118913)), (500, np.float64(0.01686445087373314)), (36, np.float64(0.016817365846354435)), (783, np.float64(0.016804451537100744)), (1047, np.float64(0.01678314801892721)), (850, np.float64(0.016768320564219896)), (781, np.float64(0.01674826764018355)), (680, np.float64(0.01673366599938474)), (89, np.float64(0.016713611574402584)), (1081, np.float64(0.016709483413407465)), (779, np.float64(0.016698038272419356)), (255, np.float64(0.016690744749321487)), (631, np.float64(0.016666710353228514)), (1230, np.float64(0.016664569618707607)), (368, np.float64(0.01660472989314469)), (254, np.float64(0.01659520605243451)), (675, np.float64(0.01657457609818426)), (1178, np.float64(0.01657457609818426)), (267, np.float64(0.016560205980653307)), (331, np.float64(0.016533553670287263)), (495, np.float64(0.01650301702092414)), (546, np.float64(0.0165024971727238)), (1137, np.float64(0.016475592946183504)), (761, np.float64(0.01643423999407804)), (1313, np.float64(0.016420860061024334)), (1009, np.float64(0.016393263882799824)), (704, np.float64(0.016385181858902878)), (1046, np.float64(0.016362773407623075)), (639, np.float64(0.016351158486672793)), (74, np.float64(0.016349791394452456)), (946, np.float64(0.016349677652334176)), (1122, np.float64(0.016346317511578348)), (501, np.float64(0.016338193322456174)), (668, np.float64(0.016316938003137608)), (1077, np.float64(0.016303272710562797)), (702, np.float64(0.01629778340250706)), (334, np.float64(0.016283237057076093)), (879, np.float64(0.016275428452415502)), (1066, np.float64(0.016256007942503894)), (829, np.float64(0.01624967481461498)), (1054, np.float64(0.016248036614130917)), (440, np.float64(0.016197908246748955)), (820, np.float64(0.01616961499848834)), (947, np.float64(0.016125383568495053)), (843, np.float64(0.016115159230464825)), (827, np.float64(0.01611334408862561)), (229, np.float64(0.01607743687204868)), (444, np.float64(0.01606168124889281)), (713, np.float64(0.01603407643460282)), (246, np.float64(0.016009131451678794)), (1226, np.float64(0.015987103122165874)), (1140, np.float64(0.01592452933489503)), (412, np.float64(0.015885194961221795)), (168, np.float64(0.015862658734012873)), (1299, np.float64(0.015837555909217246)), (128, np.float64(0.015765769100251563)), (589, np.float64(0.015746354683454717)), (894, np.float64(0.01573551669365997)), (281, np.float64(0.015669048828119453)), (1266, np.float64(0.015651638604107385)), (201, np.float64(0.015636825276973527)), (421, np.float64(0.015615062989101033)), (446, np.float64(0.015597723507330801)), (1169, np.float64(0.015541250571822231)), (1280, np.float64(0.015530803354973002)), (342, np.float64(0.015514395811464826)), (135, np.float64(0.015511046687098826)), (302, np.float64(0.015470528984877843)), (716, np.float64(0.015466921814420595)), (422, np.float64(0.01546191976639874)), (1166, np.float64(0.015433175201009952)), (856, np.float64(0.015352775671865899)), (1347, np.float64(0.015346066615507878)), (1294, np.float64(0.015299521162956466)), (507, np.float64(0.01522333155056016)), (672, np.float64(0.015188093870443488)), (44, np.float64(0.015184802056757242)), (471, np.float64(0.015171818309203455)), (1059, np.float64(0.015159174839111653)), (848, np.float64(0.015094745198558837)), (913, np.float64(0.015087913078592571)), (601, np.float64(0.015082720813857284)), (522, np.float64(0.015027146910627825)), (1049, np.float64(0.015021648645594313)), (1127, np.float64(0.015017997745553714)), (891, np.float64(0.015014331046351453)), (720, np.float64(0.015003155578738044)), (1103, np.float64(0.014956619742049435)), (673, np.float64(0.014940775272474286)), (1075, np.float64(0.01491497953684233)), (481, np.float64(0.0149058375186548)), (730, np.float64(0.014903894959849597)), (1138, np.float64(0.014826083197889826)), (218, np.float64(0.014790489603364302)), (600, np.float64(0.014776081122075893)), (25, np.float64(0.014768894903968904)), (165, np.float64(0.01474644671280547)), (1016, np.float64(0.014728586389676578)), (1033, np.float64(0.014713932410726806)), (1021, np.float64(0.014707918562859343)), (642, np.float64(0.014681741920008581)), (969, np.float64(0.014650299135570264)), (1397, np.float64(0.01455974818277313)), (916, np.float64(0.014521563228150316)), (411, np.float64(0.014426492767202108)), (878, np.float64(0.014363604641596042)), (723, np.float64(0.014326687508712927)), (721, np.float64(0.014274829661807613)), (154, np.float64(0.014272841386837945)), (75, np.float64(0.01425868768757808)), (1192, np.float64(0.014225798327717892)), (814, np.float64(0.014222761019867906)), (109, np.float64(0.014222304220985672)), (770, np.float64(0.014214858325969491)), (751, np.float64(0.01420859287704257)), (968, np.float64(0.014152671367949716)), (502, np.float64(0.01415002214771194)), (19, np.float64(0.014138232846559611)), (1080, np.float64(0.014108053296552734)), (1001, np.float64(0.014096276137791986)), (244, np.float64(0.014053389268118192)), (1327, np.float64(0.01394680815478657)), (907, np.float64(0.013887700098898765)), (1255, np.float64(0.013884482220614773)), (318, np.float64(0.01379766277664248)), (450, np.float64(0.013792459904720427)), (1270, np.float64(0.013700484889047616)), (1216, np.float64(0.013684181809367585)), (945, np.float64(0.013676381979237512)), (1002, np.float64(0.01365991098955694)), (586, np.float64(0.013652717583142942)), (268, np.float64(0.01364395171207785)), (243, np.float64(0.013576483063255913)), (548, np.float64(0.013548345017952785)), (1384, np.float64(0.013527762764391979)), (577, np.float64(0.013449887253239281)), (582, np.float64(0.013429040059442853)), (242, np.float64(0.013364218420001593)), (765, np.float64(0.013335774409736044)), (337, np.float64(0.013318852895658474)), (103, np.float64(0.013203857662182137)), (1208, np.float64(0.013106471885629087)), (584, np.float64(0.013072844318564201)), (1211, np.float64(0.013020737423934762)), (864, np.float64(0.012976980261762097)), (355, np.float64(0.012966818958422794)), (1126, np.float64(0.01296421631417478)), (938, np.float64(0.012809760002035493)), (1109, np.float64(0.012756571270204825)), (60, np.float64(0.01272535309247064)), (725, np.float64(0.012642657798240874)), (1110, np.float64(0.012592582438825418)), (511, np.float64(0.012570313196090584)), (608, np.float64(0.012432439582596934)), (1262, np.float64(0.012385464066184241)), (117, np.float64(0.012349574198329834)), (1143, np.float64(0.012337216512425142)), (824, np.float64(0.012289892384014183)), (528, np.float64(0.012275741344379589)), (745, np.float64(0.012269178517979457)), (253, np.float64(0.012267375773244433)), (1149, np.float64(0.01223956473741018)), (677, np.float64(0.012200728581343863)), (1352, np.float64(0.01216153468423539)), (901, np.float64(0.012141075902683283)), (1392, np.float64(0.01213290031760431)), (12, np.float64(0.01211187568229877)), (1201, np.float64(0.012064739494917995)), (136, np.float64(0.012018754480734401)), (1382, np.float64(0.01200306585462118)), (778, np.float64(0.011999461098996914)), (1031, np.float64(0.011992807746505454)), (733, np.float64(0.011967743867946063)), (1165, np.float64(0.011949540359314125)), (1232, np.float64(0.011917914123512756)), (65, np.float64(0.011905130809562636)), (510, np.float64(0.011809568734424127)), (970, np.float64(0.011805771250486779)), (1159, np.float64(0.011742437530170978)), (1210, np.float64(0.01171903919439881)), (1199, np.float64(0.011626042203783708)), (557, np.float64(0.011599503175180628)), (305, np.float64(0.011585267018110633)), (61, np.float64(0.011578975018842981)), (350, np.float64(0.011577105719256403)), (72, np.float64(0.011540188779202952)), (1055, np.float64(0.011518004404561464)), (1308, np.float64(0.011490397923290561)), (690, np.float64(0.011471525445371483)), (295, np.float64(0.0114217372710396)), (1084, np.float64(0.011361423178952638)), (1302, np.float64(0.01135910959540946)), (587, np.float64(0.011331494907977802)), (772, np.float64(0.011328524435879466)), (1241, np.float64(0.011322847777878838)), (90, np.float64(0.011289744379892809)), (473, np.float64(0.011266264406311042)), (461, np.float64(0.01122413050648021)), (748, np.float64(0.011167808188296581)), (462, np.float64(0.011144322763815839)), (385, np.float64(0.011100675176320504)), (434, np.float64(0.011027052310350696)), (569, np.float64(0.010924228337511301)), (974, np.float64(0.010853128710252234)), (401, np.float64(0.010801092809112258)), (785, np.float64(0.010775180380514776)), (86, np.float64(0.010742005022290153)), (1244, np.float64(0.010722446666448327)), (979, np.float64(0.010719823134561813)), (1386, np.float64(0.010684578788730276)), (840, np.float64(0.010651259510781361)), (929, np.float64(0.010587252823430126)), (909, np.float64(0.010559688168978865)), (1251, np.float64(0.010404273125002701)), (55, np.float64(0.010378027943221738)), (221, np.float64(0.010311717206828865)), (774, np.float64(0.010300104573527653)), (615, np.float64(0.010290922782570197)), (1378, np.float64(0.010250948870675756)), (40, np.float64(0.010130777491721336)), (503, np.float64(0.010115644358571773)), (1236, np.float64(0.010089137557900432)), (903, np.float64(0.010085762753038798)), (731, np.float64(0.010079721686706771)), (50, np.float64(0.010033719943930229)), (303, np.float64(0.010002891046785638)), (1017, np.float64(0.009905935289614948)), (428, np.float64(0.009890834331663701)), (1087, np.float64(0.009818566953819635)), (1372, np.float64(0.00980740725164362)), (966, np.float64(0.00977774385451249)), (1271, np.float64(0.009736106326568711)), (606, np.float64(0.009730241562275598)), (906, np.float64(0.009688595269555105)), (1363, np.float64(0.009616615457048014)), (782, np.float64(0.009608935015426975)), (890, np.float64(0.00944512833877452)), (1115, np.float64(0.009414579780808348)), (1215, np.float64(0.00937186260254958)), (1190, np.float64(0.009369394094982662)), (853, np.float64(0.009353253583583906)), (231, np.float64(0.009285504824647645)), (646, np.float64(0.009271801320476194)), (1052, np.float64(0.009193635100989566)), (977, np.float64(0.00918451548342428)), (289, np.float64(0.009178537107353162)), (134, np.float64(0.009152869136901096)), (1174, np.float64(0.009081369273711485)), (568, np.float64(0.008954154929363132)), (603, np.float64(0.008936677944040442)), (419, np.float64(0.008867755682465095)), (682, np.float64(0.008686039036161042)), (1380, np.float64(0.00862069394704752)), (1376, np.float64(0.008547544062474936)), (115, np.float64(0.008515691982838046)), (1200, np.float64(0.008505376437582448)), (157, np.float64(0.00846884333918211)), (1023, np.float64(0.008447061420211689)), (325, np.float64(0.008403760512279312)), (1132, np.float64(0.00839891079357886)), (116, np.float64(0.008390932473919517)), (1344, np.float64(0.008107411561949445)), (96, np.float64(0.008063580879311015)), (1307, np.float64(0.008041804069523019)), (464, np.float64(0.008036040282417434)), (815, np.float64(0.008017984898232512)), (1147, np.float64(0.007965021816903842)), (430, np.float64(0.007936679072247741)), (908, np.float64(0.007875409102491737)), (997, np.float64(0.00787413608555898)), (1273, np.float64(0.007857032194925324)), (212, np.float64(0.007750153307163271)), (397, np.float64(0.0077447087470021245)), (530, np.float64(0.007744258687757601)), (288, np.float64(0.007698315413179377)), (655, np.float64(0.007660289840563042)), (175, np.float64(0.007628998787738299)), (261, np.float64(0.007570238554756721)), (939, np.float64(0.0075650320954535645)), (309, np.float64(0.007546333449375323)), (377, np.float64(0.007516049414886069)), (327, np.float64(0.007423699223506326)), (1223, np.float64(0.007318514527579653)), (1194, np.float64(0.007253247049013452)), (216, np.float64(0.007248696886782165)), (972, np.float64(0.0072014415383634175)), (1353, np.float64(0.007201170551144819)), (762, np.float64(0.0071824174752132645)), (739, np.float64(0.00718013031151755)), (1124, np.float64(0.007164594675670128)), (250, np.float64(0.007057095988623878)), (1128, np.float64(0.007038467394292112)), (1296, np.float64(0.006972628446111585)), (213, np.float64(0.006970284594482601)), (896, np.float64(0.006939475724038245)), (1301, np.float64(0.0068934718501469875)), (960, np.float64(0.006866827115471464)), (944, np.float64(0.006841381748594533)), (240, np.float64(0.0067997506183601385)), (1078, np.float64(0.006758310249679871)), (344, np.float64(0.006747565037361946)), (69, np.float64(0.006698905655989914)), (956, np.float64(0.006672301969735983)), (482, np.float64(0.006661321780270998)), (1188, np.float64(0.006656087759567883)), (247, np.float64(0.006644099918154236)), (1175, np.float64(0.0066321318452388055)), (417, np.float64(0.006625078080054945)), (1082, np.float64(0.006584847018098449)), (567, np.float64(0.006578803233731635)), (413, np.float64(0.006564665679274007)), (1105, np.float64(0.006559183501053339)), (622, np.float64(0.006549610163842526)), (1228, np.float64(0.006537003142432899)), (990, np.float64(0.0065311558268946295)), (405, np.float64(0.006471979119390525)), (1389, np.float64(0.006467922397180596)), (750, np.float64(0.006459999179553717)), (1338, np.float64(0.006406903039336147)), (200, np.float64(0.006400877083604575)), (504, np.float64(0.006400662239562668)), (794, np.float64(0.006370751752564015)), (71, np.float64(0.006354832510379774)), (270, np.float64(0.006228886906257864)), (667, np.float64(0.0062257901329976)), (78, np.float64(0.006218038789335161)), (1343, np.float64(0.006196791559128896)), (91, np.float64(0.006187781505208139)), (466, np.float64(0.006179576721963195)), (484, np.float64(0.006109553065581977)), (1063, np.float64(0.0060973996144178455)), (1317, np.float64(0.006081327717195641)), (592, np.float64(0.006076817289978518)), (1193, np.float64(0.006027451843968885)), (1337, np.float64(0.006026433041305545)), (22, np.float64(0.006023598812045)), (1324, np.float64(0.0059992090958710395)), (1315, np.float64(0.005991147486396992)), (1079, np.float64(0.005976264275473167)), (184, np.float64(0.005953358250263396)), (1024, np.float64(0.005892690695790222)), (959, np.float64(0.0058062912314474505)), (918, np.float64(0.005768755297835245)), (738, np.float64(0.005765182807631836)), (31, np.float64(0.00573807133883075)), (1231, np.float64(0.005729407886734424)), (743, np.float64(0.005715488082822486)), (523, np.float64(0.005714003259383251)), (860, np.float64(0.005687756051251628)), (871, np.float64(0.005626464575349952)), (394, np.float64(0.005605919011749281)), (139, np.float64(0.005549287922437786)), (347, np.float64(0.005488957183312035)), (857, np.float64(0.005446707729140491)), (188, np.float64(0.005440937146766407)), (204, np.float64(0.005325915155000046)), (551, np.float64(0.005286788147514243)), (487, np.float64(0.005175917173171854)), (647, np.float64(0.0051283803013664085)), (1238, np.float64(0.005101514754887226)), (365, np.float64(0.00509524340829843)), (97, np.float64(0.005039922963433534)), (395, np.float64(0.005000346496738084)), (536, np.float64(0.004962389596213334)), (490, np.float64(0.00488227915520267)), (70, np.float64(0.004803182430616333)), (709, np.float64(0.004695929162167765)), (1162, np.float64(0.0046682993458329455)), (414, np.float64(0.004493159173288799)), (279, np.float64(0.0044879635646916305)), (831, np.float64(0.004470716790779182)), (817, np.float64(0.004398043221370672)), (517, np.float64(0.004321989419046958)), (931, np.float64(0.004269774686465794)), (832, np.float64(0.004258293151872195)), (167, np.float64(0.004119895935137449)), (80, np.float64(0.0)), (163, np.float64(0.0)), (208, np.float64(0.0)), (234, np.float64(0.0)), (307, np.float64(0.0)), (348, np.float64(0.0)), (371, np.float64(0.0)), (393, np.float64(0.0)), (472, np.float64(0.0)), (496, np.float64(0.0)), (508, np.float64(0.0)), (529, np.float64(0.0)), (563, np.float64(0.0)), (596, np.float64(0.0)), (602, np.float64(0.0)), (604, np.float64(0.0)), (605, np.float64(0.0)), (617, np.float64(0.0)), (644, np.float64(0.0)), (669, np.float64(0.0)), (678, np.float64(0.0)), (684, np.float64(0.0)), (693, np.float64(0.0)), (694, np.float64(0.0)), (695, np.float64(0.0)), (696, np.float64(0.0)), (708, np.float64(0.0)), (735, np.float64(0.0)), (736, np.float64(0.0)), (742, np.float64(0.0)), (753, np.float64(0.0)), (754, np.float64(0.0)), (757, np.float64(0.0)), (760, np.float64(0.0)), (776, np.float64(0.0)), (792, np.float64(0.0)), (797, np.float64(0.0)), (799, np.float64(0.0)), (806, np.float64(0.0)), (810, np.float64(0.0)), (811, np.float64(0.0)), (813, np.float64(0.0)), (816, np.float64(0.0)), (823, np.float64(0.0)), (833, np.float64(0.0)), (835, np.float64(0.0)), (839, np.float64(0.0)), (875, np.float64(0.0)), (876, np.float64(0.0)), (885, np.float64(0.0)), (889, np.float64(0.0)), (893, np.float64(0.0)), (895, np.float64(0.0)), (899, np.float64(0.0)), (914, np.float64(0.0)), (915, np.float64(0.0)), (917, np.float64(0.0)), (919, np.float64(0.0)), (921, np.float64(0.0)), (934, np.float64(0.0)), (948, np.float64(0.0)), (964, np.float64(0.0)), (975, np.float64(0.0)), (987, np.float64(0.0)), (988, np.float64(0.0)), (991, np.float64(0.0)), (995, np.float64(0.0)), (996, np.float64(0.0)), (1003, np.float64(0.0)), (1013, np.float64(0.0)), (1019, np.float64(0.0)), (1022, np.float64(0.0)), (1028, np.float64(0.0)), (1029, np.float64(0.0)), (1034, np.float64(0.0)), (1040, np.float64(0.0)), (1043, np.float64(0.0)), (1057, np.float64(0.0)), (1060, np.float64(0.0)), (1062, np.float64(0.0)), (1065, np.float64(0.0)), (1074, np.float64(0.0)), (1083, np.float64(0.0)), (1091, np.float64(0.0)), (1095, np.float64(0.0)), (1096, np.float64(0.0)), (1099, np.float64(0.0)), (1106, np.float64(0.0)), (1107, np.float64(0.0)), (1108, np.float64(0.0)), (1111, np.float64(0.0)), (1112, np.float64(0.0)), (1114, np.float64(0.0)), (1116, np.float64(0.0)), (1117, np.float64(0.0)), (1121, np.float64(0.0)), (1123, np.float64(0.0)), (1133, np.float64(0.0)), (1141, np.float64(0.0)), (1146, np.float64(0.0)), (1148, np.float64(0.0)), (1155, np.float64(0.0)), (1156, np.float64(0.0)), (1157, np.float64(0.0)), (1167, np.float64(0.0)), (1171, np.float64(0.0)), (1176, np.float64(0.0)), (1177, np.float64(0.0)), (1183, np.float64(0.0)), (1185, np.float64(0.0)), (1206, np.float64(0.0)), (1212, np.float64(0.0)), (1213, np.float64(0.0)), (1217, np.float64(0.0)), (1218, np.float64(0.0)), (1220, np.float64(0.0)), (1222, np.float64(0.0)), (1227, np.float64(0.0)), (1229, np.float64(0.0)), (1239, np.float64(0.0)), (1242, np.float64(0.0)), (1246, np.float64(0.0)), (1249, np.float64(0.0)), (1256, np.float64(0.0)), (1260, np.float64(0.0)), (1263, np.float64(0.0)), (1265, np.float64(0.0)), (1276, np.float64(0.0)), (1283, np.float64(0.0)), (1284, np.float64(0.0)), (1286, np.float64(0.0)), (1288, np.float64(0.0)), (1290, np.float64(0.0)), (1291, np.float64(0.0)), (1292, np.float64(0.0)), (1295, np.float64(0.0)), (1297, np.float64(0.0)), (1300, np.float64(0.0)), (1303, np.float64(0.0)), (1305, np.float64(0.0)), (1306, np.float64(0.0)), (1311, np.float64(0.0)), (1314, np.float64(0.0)), (1318, np.float64(0.0)), (1319, np.float64(0.0)), (1321, np.float64(0.0)), (1322, np.float64(0.0)), (1325, np.float64(0.0)), (1328, np.float64(0.0)), (1331, np.float64(0.0)), (1332, np.float64(0.0)), (1333, np.float64(0.0)), (1335, np.float64(0.0)), (1339, np.float64(0.0)), (1340, np.float64(0.0)), (1348, np.float64(0.0)), (1349, np.float64(0.0)), (1350, np.float64(0.0)), (1351, np.float64(0.0)), (1357, np.float64(0.0)), (1358, np.float64(0.0)), (1359, np.float64(0.0)), (1360, np.float64(0.0)), (1361, np.float64(0.0)), (1362, np.float64(0.0)), (1366, np.float64(0.0)), (1367, np.float64(0.0)), (1370, np.float64(0.0)), (1373, np.float64(0.0)), (1375, np.float64(0.0)), (1381, np.float64(0.0)), (1393, np.float64(0.0)), (1394, np.float64(0.0)), (1395, np.float64(0.0))]\n"
          ]
        }
      ]
    },
    {
      "cell_type": "code",
      "source": [
        "#print the name of similar movies based on the index\n",
        "print('Movies Suggested for You: \\n')\n",
        "i=1\n",
        "for movie in sorted_similar_movies:\n",
        "  index = movie[0]\n",
        "  title_from_index = movies_data[movies_data.index==index]['Movie'].values[0]\n",
        "  if (i<30):\n",
        "    print(i,'.',title_from_index)\n",
        "    i+=1"
      ],
      "metadata": {
        "colab": {
          "base_uri": "https://localhost:8080/"
        },
        "id": "wMbIcITgDb5m",
        "outputId": "f407f9ca-28d1-4ab0-8e76-54c87f4c3666"
      },
      "execution_count": 105,
      "outputs": [
        {
          "output_type": "stream",
          "name": "stdout",
          "text": [
            "Movies Suggested for You: \n",
            "\n",
            "1 . Eega\n",
            "2 . Veera\n",
            "3 . Shadow\n",
            "4 . Yamudiki Mogudu\n",
            "5 . Nagarahaavu\n",
            "6 . Padmavyuham\n",
            "7 . Yaman\n",
            "8 . Bigil\n",
            "9 . Ramayya Vastavayya\n",
            "10 . Rebel\n",
            "11 . Bezawada\n",
            "12 . Nijam\n",
            "13 . Mesthri\n",
            "14 . Agnyaathavaasi\n",
            "15 . Samba\n",
            "16 . Yevadu\n",
            "17 . Yamaleela\n",
            "18 . Yamajaathakudu\n",
            "19 . Uu Kodathara Ulikki Padathara\n",
            "20 . Jaguar\n",
            "21 . Rakhi\n",
            "22 . Poola Rangadu\n",
            "23 . Allari Police\n",
            "24 . Rakhta Charitra\n",
            "25 . Winner\n",
            "26 . Krishnam Vande Jagadgurum\n",
            "27 . Yamadonga\n",
            "28 . Run Raja Run\n",
            "29 . Rakhta Charitra 2\n"
          ]
        }
      ]
    },
    {
      "cell_type": "markdown",
      "source": [
        "MOVIE RECOMMENDATION SYSTEM"
      ],
      "metadata": {
        "id": "AUWd1UO9FuMu"
      }
    },
    {
      "cell_type": "code",
      "source": [
        "movie_name = input('Enter the Movie Name:')\n",
        "list_of_all_titles = movies_data['Movie'].tolist()\n",
        "find_close_match = difflib.get_close_matches(movie_name,list_of_all_titles)\n",
        "close_match = find_close_match[0]\n",
        "index_of_the_movie = movies_data[movies_data['Movie'] == close_match].index[0]\n",
        "similarity_score = list(enumerate(similarity[index_of_the_movie]))\n",
        "sorted_similar_movies = sorted(similarity_score,key = lambda x:x[1], reverse=True)\n",
        "print('Movies Suggested for You: \\n')\n",
        "i=1\n",
        "for movie in sorted_similar_movies:\n",
        "  index = movie[0]\n",
        "  title_from_index = movies_data[movies_data.index==index]['Movie'].values[0]\n",
        "  if (i<11):\n",
        "    print(i,'.',title_from_index)\n",
        "    i+=1"
      ],
      "metadata": {
        "colab": {
          "base_uri": "https://localhost:8080/"
        },
        "id": "l2MPMlJyFiOW",
        "outputId": "2fc54997-147f-4101-b3d0-d1d5b66714c9"
      },
      "execution_count": 113,
      "outputs": [
        {
          "output_type": "stream",
          "name": "stdout",
          "text": [
            "Enter the Movie Name:avatar\n",
            "Movies Suggested for You: \n",
            "\n",
            "1 . Savaari\n",
            "2 . Mrugaraaju\n",
            "3 . Sitaara\n",
            "4 . Malliswari\n",
            "5 . Lakshmi Raave Maa Intiki\n",
            "6 . Prayanam\n",
            "7 . Chi La Sow\n",
            "8 . Gundamma Katha\n",
            "9 . Padmavyuham\n",
            "10 . Rough\n"
          ]
        }
      ]
    },
    {
      "cell_type": "code",
      "source": [
        "import gradio as gr\n",
        "import difflib\n",
        "\n",
        "def recommend_ui(movie_name):\n",
        "    list_of_all_titles = movies_data['Movie'].tolist()\n",
        "    find_close_match = difflib.get_close_matches(movie_name, list_of_all_titles)\n",
        "\n",
        "    if not find_close_match:\n",
        "        return \"❌ No similar movie found. Please check the spelling.\"\n",
        "\n",
        "    close_match = find_close_match[0]\n",
        "    index_of_the_movie = movies_data[movies_data['Movie'] == close_match].index[0]\n",
        "    similarity_score = list(enumerate(similarity[index_of_the_movie]))\n",
        "    sorted_similar_movies = sorted(similarity_score, key=lambda x: x[1], reverse=True)\n",
        "\n",
        "    result = f\"🎬 Movies Suggested for You (Based on '{close_match}'):\\n\\n\"\n",
        "    i = 1\n",
        "    for movie in sorted_similar_movies:\n",
        "        index = movie[0]\n",
        "        title_from_index = movies_data[movies_data.index == index]['Movie'].values[0]\n",
        "        if i < 11:\n",
        "            result += f\"{i}. {title_from_index}\\n\"\n",
        "            i += 1\n",
        "\n",
        "    return result\n"
      ],
      "metadata": {
        "id": "ZtINsLT6Rf7f"
      },
      "execution_count": 117,
      "outputs": []
    },
    {
      "cell_type": "code",
      "source": [
        "interface = gr.Interface(\n",
        "    fn=recommend_ui,\n",
        "    inputs=gr.Textbox(lines=1, placeholder=\"Meeku nacchina telugu Movies...\"),\n",
        "    outputs=\"textbox\",\n",
        "    title=\"🎥 Movie Recommendation System - Abhinav Panuganti\",\n",
        "    description=\"Type any movie name and get similar movies based on content matching.\",\n",
        ")\n",
        "\n",
        "interface.launch()\n"
      ],
      "metadata": {
        "colab": {
          "base_uri": "https://localhost:8080/",
          "height": 645
        },
        "id": "lBrsWN_HRkJL",
        "outputId": "d84c438f-48af-4ea4-9e9e-e1cf1929ca64"
      },
      "execution_count": 120,
      "outputs": [
        {
          "output_type": "stream",
          "name": "stdout",
          "text": [
            "It looks like you are running Gradio on a hosted a Jupyter notebook. For the Gradio app to work, sharing must be enabled. Automatically setting `share=True` (you can turn this off by setting `share=False` in `launch()` explicitly).\n",
            "\n",
            "Colab notebook detected. To show errors in colab notebook, set debug=True in launch()\n",
            "* Running on public URL: https://c01e08195a0a67de59.gradio.live\n",
            "\n",
            "This share link expires in 1 week. For free permanent hosting and GPU upgrades, run `gradio deploy` from the terminal in the working directory to deploy to Hugging Face Spaces (https://huggingface.co/spaces)\n"
          ]
        },
        {
          "output_type": "display_data",
          "data": {
            "text/plain": [
              "<IPython.core.display.HTML object>"
            ],
            "text/html": [
              "<div><iframe src=\"https://c01e08195a0a67de59.gradio.live\" width=\"100%\" height=\"500\" allow=\"autoplay; camera; microphone; clipboard-read; clipboard-write;\" frameborder=\"0\" allowfullscreen></iframe></div>"
            ]
          },
          "metadata": {}
        },
        {
          "output_type": "execute_result",
          "data": {
            "text/plain": []
          },
          "metadata": {},
          "execution_count": 120
        }
      ]
    }
  ]
}